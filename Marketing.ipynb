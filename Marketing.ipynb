{
 "cells": [
  {
   "cell_type": "code",
   "execution_count": 1,
   "id": "73a6e273-57f1-4971-a1df-b30ccf87c6f0",
   "metadata": {},
   "outputs": [],
   "source": [
    "import matplotlib.pyplot as plt"
   ]
  },
  {
   "cell_type": "markdown",
   "id": "450761bd-8bbb-4e2e-91bf-1bf2f008dcc1",
   "metadata": {},
   "source": [
    "| |2022-2021|2021-2020|2020-2019|2019-2018|2018-2017|2017-2016|2016-2015|2015-2014|2014-2013|2013-2012|2012-2011| \n",
    "|--|--|--|--|--|--|--|--|--|--|--|--|\n",
    "|Computing and Mobile Phones|5.10%|13%|3.20%|4.20%|5.30%|1.80%|-2.60%|-0.60%|4.70%|7.50%|6%|\n",
    "|Consumer Electronics|15.90%|-0.20%|1.90%|3.90%|3.10%|5.00%|4.70%|3.70%|-5.60%|-7.50%|-5.40%|\n",
    "|Appliances|24.10%|23.20%|13.00%|9.90%|11.40%|7.80%|15.40%|7.50%|16.70%|10.01%|10.60%|\n",
    "|Entertainment|7.40%|17.90%|-18.50%|4.70%|12.60%|13.80%|-3.60%|4.50%|-16.30%|-21.40%|-16.30%|\n",
    "|Services|5.90%|-1.40%|6.80%|7.70%|4.00%|3.30%|-11.60%|11.10%|0.20%|0.80%|-0.60%|"
   ]
  },
  {
   "cell_type": "code",
   "execution_count": null,
   "id": "524e9c23-8246-45a6-bd61-bc624af60e53",
   "metadata": {},
   "outputs": [],
   "source": [
    "\n",
    "\n",
    "\n",
    "\n"
   ]
  },
  {
   "cell_type": "code",
   "execution_count": null,
   "id": "b2e4dd5e-3bdd-4071-9890-16e69639ed2c",
   "metadata": {},
   "outputs": [],
   "source": [
    "\t\n",
    "\n",
    "period_2022_2021 = \n",
    "\n",
    "2021-2020\t2020-2019\t2019-2018\t2018-2017\t2017-2016\t2016-2015\t2015-2014\t2014-2013\t2013-2012\t2012-2011\n"
   ]
  }
 ],
 "metadata": {
  "kernelspec": {
   "display_name": "Python 3 (ipykernel)",
   "language": "python",
   "name": "python3"
  },
  "language_info": {
   "codemirror_mode": {
    "name": "ipython",
    "version": 3
   },
   "file_extension": ".py",
   "mimetype": "text/x-python",
   "name": "python",
   "nbconvert_exporter": "python",
   "pygments_lexer": "ipython3",
   "version": "3.9.12"
  }
 },
 "nbformat": 4,
 "nbformat_minor": 5
}
