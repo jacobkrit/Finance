{
 "cells": [
  {
   "cell_type": "code",
   "execution_count": 1,
   "id": "78f608e9-e498-4a8e-a599-04f28867643d",
   "metadata": {},
   "outputs": [],
   "source": [
    "import numpy as np\n",
    "import pandas as pd\n",
    "import seaborn as sns\n",
    "import matplotlib.pyplot as plt\n",
    "import math\n",
    "from scipy import stats"
   ]
  },
  {
   "cell_type": "code",
   "execution_count": 2,
   "id": "21b811ff-3ce6-423f-95e8-f803d72b465b",
   "metadata": {},
   "outputs": [],
   "source": [
    "#--------------------------------- Simple Interest Forumla\n",
    "# FV: future value\n",
    "# PV: Present value (Principal amount)\n",
    "# r: Compound Interest Rate\n",
    "# n: number of periods \n",
    "# t: times per period \n",
    "\n",
    "def FV_Simple(PV,r_Percentage,n,t):\n",
    "    r = r_Percentage/100\n",
    "    FV = PV*r*(n*t)\n",
    "    return FV"
   ]
  },
  {
   "cell_type": "code",
   "execution_count": 2,
   "id": "a9b3349c-4386-43cd-81e2-f555696aa4d6",
   "metadata": {},
   "outputs": [],
   "source": [
    "#--------------------------------- Compound Interest Forumlas\n",
    "# FV: future value\n",
    "# PV: Present value (Principal amount)\n",
    "# r: Compound Interest Rate\n",
    "# n: number of periods \n",
    "# t: times per period \n",
    "\n",
    "def FV_Compound(PV,r_Percentage,n,t):\n",
    "    r = r_Percentage/100\n",
    "    compound_factor = (1+(r/t))**(n*t)\n",
    "    FV = PV * compound_factor\n",
    "    return FV\n",
    "\n",
    "def PV_Compound(FV,r_Percentage,n,t):\n",
    "    r = r_Percentage/100\n",
    "    discount_factor = 1/(1+(r/t))**(n*t)\n",
    "    PV = FV * discount_factor\n",
    "    return PV"
   ]
  },
  {
   "cell_type": "code",
   "execution_count": 3,
   "id": "038676d8-df84-47ec-8be7-f3f4d2cde636",
   "metadata": {},
   "outputs": [
    {
     "name": "stdout",
     "output_type": "stream",
     "text": [
      "1348.8501525493075\n"
     ]
    }
   ],
   "source": [
    "print(FV_Compound(1000,6,5,12))"
   ]
  },
  {
   "cell_type": "code",
   "execution_count": 4,
   "id": "6551b7b1-3a98-4cb0-87e0-c7ace46431af",
   "metadata": {},
   "outputs": [
    {
     "name": "stdout",
     "output_type": "stream",
     "text": [
      "1000.0026941080066\n"
     ]
    }
   ],
   "source": [
    "print(PV_Compound(1343.92,6,5,2))"
   ]
  },
  {
   "cell_type": "code",
   "execution_count": 5,
   "id": "85f44bfe-3b8c-4a7e-84f3-0fbf430ddc22",
   "metadata": {},
   "outputs": [],
   "source": [
    "#--------------------------------- Annuity\n",
    "# FVA: Future value Annuity\n",
    "# PVA: Future value Annuity\n",
    "# PR: Periodic value (value of each payment)\n",
    "# r: Annuity Interest Rate\n",
    "# n: number of periods \n",
    "# t: times per period \n",
    "\n",
    "# what your money is worth on the day you make the last payment (n*t)\n",
    "# when you pay each deposit PR money, for n*t times and with r as the Annuity Interest Rate\n",
    "def FV_Annuity(PR,r_Percentage,n,t):\n",
    "    r = r_Percentage/100\n",
    "    compound_annuity_factor = (((1+(r/t))**(n*t) -1)/(r/t))\n",
    "    FV = PR * compound_annuity_factor\n",
    "    return FV\n",
    "\n",
    "# how much money you have to deposit today/now (PV), in order to make PR money each time\n",
    "# for n*t times with r as the Annuity Interest Rate\n",
    "def PV_Annuity(PR,r_Percentage,n,t):\n",
    "    r = r_Percentage/100\n",
    "    discount_annuity_factor = ((1- (1/(1+r/t))**(n*t))/(r/t))\n",
    "    PV = PR * discount_annuity_factor\n",
    "    return PV"
   ]
  },
  {
   "cell_type": "code",
   "execution_count": 6,
   "id": "af02423f-0d4d-4768-8b4e-5b11465c6acb",
   "metadata": {},
   "outputs": [
    {
     "name": "stdout",
     "output_type": "stream",
     "text": [
      "6975.318537600006\n"
     ]
    }
   ],
   "source": [
    "print(FV_Annuity(1000,6,6,1))"
   ]
  },
  {
   "cell_type": "code",
   "execution_count": 7,
   "id": "eef8d281-9e73-4606-94db-d89ddc45c158",
   "metadata": {},
   "outputs": [
    {
     "name": "stdout",
     "output_type": "stream",
     "text": [
      "4917.324326005398\n"
     ]
    }
   ],
   "source": [
    "print(PV_Annuity(1000,6,6,1))"
   ]
  },
  {
   "cell_type": "code",
   "execution_count": 46,
   "id": "03417d10-8e56-482f-9be0-488e2f8d68d8",
   "metadata": {},
   "outputs": [],
   "source": [
    "# n: number of periods \n",
    "# t: times per period \n",
    "def Effective_Annual_Rate(r_Percentage,n,t):\n",
    "    r = r_Percentage/100\n",
    "    EAR = (1+r/(n*t))**(n*t) - 1\n",
    "    EAR_Percentage = EAR*100 \n",
    "    return EAR_Percentage"
   ]
  },
  {
   "cell_type": "code",
   "execution_count": 47,
   "id": "ecf6f5b6-a15e-49fe-bba6-5018a937da5d",
   "metadata": {},
   "outputs": [
    {
     "name": "stdout",
     "output_type": "stream",
     "text": [
      "7.229008085623589\n"
     ]
    }
   ],
   "source": [
    "print(Effective_Annual_Rate(7,1,12),\"%\")"
   ]
  },
  {
   "cell_type": "code",
   "execution_count": null,
   "id": "eb8d2b66-45a1-4e4e-b98b-cb641accbf8a",
   "metadata": {},
   "outputs": [],
   "source": []
  },
  {
   "cell_type": "code",
   "execution_count": null,
   "id": "63231805-bdee-4a49-90c0-667fbaf2917c",
   "metadata": {},
   "outputs": [],
   "source": []
  },
  {
   "cell_type": "code",
   "execution_count": 45,
   "id": "90fa3e4b-889e-4059-af58-c897413627f0",
   "metadata": {},
   "outputs": [
    {
     "name": "stdout",
     "output_type": "stream",
     "text": [
      "Fixed Cost: 500000.0  Variable Cost: 30.0\n"
     ]
    }
   ],
   "source": [
    "#--------------------------------- Stable Fixed Costs\n",
    "def params_straight_line(unit_1,total_cost_1,unit_2,total_cost_2):\n",
    "    variable_cost = (total_cost_2-total_cost_1)/(unit_2-unit_1)\n",
    "    fixed_cost = total_cost_2-variable_cost*unit_2\n",
    "    return (fixed_cost,variable_cost)\n",
    "\n",
    "fixed_cost, variable_cost = params_straight_line(6000,680000,10000,800000)\n",
    "print(\"Fixed Cost:\",fixed_cost,\" Variable Cost per Unit:\",variable_cost)\n"
   ]
  },
  {
   "cell_type": "code",
   "execution_count": 53,
   "id": "cd71d4b3-8b21-4d3a-aa85-eb79a2fb69cd",
   "metadata": {},
   "outputs": [
    {
     "name": "stdout",
     "output_type": "stream",
     "text": [
      "Fixed Cost (only for first case): 130000.0  Variable Cost per Unit (global): 3.0\n"
     ]
    }
   ],
   "source": [
    "def params_escalate_straight_line(unit_1,total_cost_1,unit_2,total_cost_2,rate_Percentage):\n",
    "    rate = rate_Percentage/100\n",
    "    variable_cost = (total_cost_2-total_cost_1-total_cost_1*rate)/(unit_2-unit_1-unit_1*rate)\n",
    "    fixed_cost = total_cost_1-variable_cost*unit_1\n",
    "    return (fixed_cost,variable_cost)\n",
    "\n",
    "fixed_cost, variable_cost = params_escalate_straight_line(50000,280000,60000,342500,25)\n",
    "print(\"Fixed Cost (only for first case):\",fixed_cost,\" Variable Cost per Unit (global):\",variable_cost)"
   ]
  },
  {
   "cell_type": "code",
   "execution_count": null,
   "id": "f5b652a0-e90c-4734-9d4c-d003fb00af79",
   "metadata": {},
   "outputs": [],
   "source": []
  }
 ],
 "metadata": {
  "kernelspec": {
   "display_name": "Python 3 (ipykernel)",
   "language": "python",
   "name": "python3"
  },
  "language_info": {
   "codemirror_mode": {
    "name": "ipython",
    "version": 3
   },
   "file_extension": ".py",
   "mimetype": "text/x-python",
   "name": "python",
   "nbconvert_exporter": "python",
   "pygments_lexer": "ipython3",
   "version": "3.9.12"
  }
 },
 "nbformat": 4,
 "nbformat_minor": 5
}
