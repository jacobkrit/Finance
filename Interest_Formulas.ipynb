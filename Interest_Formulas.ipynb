{
 "cells": [
  {
   "cell_type": "code",
   "execution_count": 2,
   "id": "21b811ff-3ce6-423f-95e8-f803d72b465b",
   "metadata": {},
   "outputs": [],
   "source": [
    "# FV: Future Value\n",
    "# PV: Present Value (Principal amount)\n",
    "# r: Compound Interest Rate\n",
    "# n: number of periods \n",
    "# t: times per period \n",
    "\n",
    "#--------------------------------- Simple Interest Forumla\n",
    "def FV_Simple(PV,r_Percentage,n,t):\n",
    "    r = r_Percentage/100\n",
    "    FV = PV*r*(n*t)\n",
    "    return FV\n",
    "\n",
    "#--------------------------------- Compound Interest Forumla (from Principal amount find future value)\n",
    "def FV_Compound(PV,r_Percentage,n,t):\n",
    "    r = r_Percentage/100\n",
    "    compound_factor = (1+(r/t))**(n*t)\n",
    "    FV = PV * compound_factor\n",
    "    return FV\n",
    "\n",
    "#--------------------------------- Compound Interest Forumla (from future value find Principal amount)\n",
    "def PV_Compound(FV,r_Percentage,n,t):\n",
    "    r = r_Percentage/100\n",
    "    discount_factor = 1/(1+(r/t))**(n*t)\n",
    "    PV = FV * discount_factor\n",
    "    return PV"
   ]
  },
  {
   "cell_type": "markdown",
   "id": "3b7e654b-60f6-4edf-a111-808f3f651a45",
   "metadata": {},
   "source": [
    "**Interest**: The fee paid in exchange for the right to borrow money. There are two main types of interest: Simple and Compound.\n",
    "\n",
    "- **Simple interest** is a predetermined percentage of the principle that was initially lent to the borrower that the borrower must pay in exchange for access to the funds.  \n",
    "\n",
    "$$FV=PV*r*n$$  \n",
    "\n",
    "$FV$: Future Value  \n",
    "$PV$: Present value (Principal amount)  \n",
    "$r$: Interest Rate  \n",
    "$n$: number of periods \n",
    "\n",
    "- **Compound Interest** is the interest that is paid that includes both principle and compounding interest (interest on top of the interest).  \n",
    "\n",
    "$$FV=PV*(1+\\frac{r}{t})^{n*t}$$  \n",
    "\n",
    "$FV$: Future Value  \n",
    "$PV$: Present value (Principal amount)  \n",
    "$r$: Interest Rate  \n",
    "$n$: number of periods   \n",
    "$t$: times per period "
   ]
  },
  {
   "cell_type": "markdown",
   "id": "252e9048-f4e5-4d32-ae9c-c1048b2c0cfd",
   "metadata": {},
   "source": [
    "**EXAMPLE 1A**: If you deposit $1000 today and earn 6% interest compounded annually,\n",
    "what will your money be worth in 5 years?"
   ]
  },
  {
   "cell_type": "code",
   "execution_count": 3,
   "id": "ae29422b-3931-4763-a355-b32abcbaf5aa",
   "metadata": {},
   "outputs": [
    {
     "name": "stdout",
     "output_type": "stream",
     "text": [
      "1338.2255776000002\n"
     ]
    }
   ],
   "source": [
    "print(FV_Compound(PV=1000,r_Percentage=6,n=5,t=1))"
   ]
  },
  {
   "cell_type": "markdown",
   "id": "7ccbe20e-df2d-4d84-88de-2fcf6ffce14e",
   "metadata": {},
   "source": [
    "**EXAMPLE 1B**: Suppose your money is compounded semiannually rather than annually,\n",
    "what will your money be worth in 5 years?"
   ]
  },
  {
   "cell_type": "code",
   "execution_count": 8,
   "id": "417200ad-01e4-4dbb-b4e6-a2ec89a1a1f0",
   "metadata": {},
   "outputs": [
    {
     "name": "stdout",
     "output_type": "stream",
     "text": [
      "Semiannually --> t=2 because you have 2 times per period\n",
      "1343.9163793441223\n"
     ]
    }
   ],
   "source": [
    "print(\"Semiannually --> t=2 because you have 2 times per period\")\n",
    "print(FV_Compound(PV=1000,r_Percentage=6,n=5,t=2))"
   ]
  },
  {
   "cell_type": "markdown",
   "id": "0c6cf0ea-9c3c-4571-9b57-0dbde66b429a",
   "metadata": {},
   "source": [
    "**EXAMPLE 2A**: If you want to have $1338.23 in 5 years and you earn 6% interest\n",
    "compounded annually, what must you deposit today?"
   ]
  },
  {
   "cell_type": "code",
   "execution_count": 9,
   "id": "185f34df-0a01-4941-a72f-7f1d13664b06",
   "metadata": {},
   "outputs": [
    {
     "name": "stdout",
     "output_type": "stream",
     "text": [
      "1000.0033046745435\n"
     ]
    }
   ],
   "source": [
    "print(PV_Compound(FV=1338.23,r_Percentage=6,n=5,t=1))"
   ]
  },
  {
   "cell_type": "markdown",
   "id": "ee57dafe-e85e-438f-8522-240918b4bbd6",
   "metadata": {},
   "source": [
    "**EXAMPLE 2B**: If you want to' have $1343.92 in 5 years and you earn 6% interest\n",
    "compounded semiannually, what must you deposit today?"
   ]
  },
  {
   "cell_type": "code",
   "execution_count": 10,
   "id": "81887dfa-c0a5-4f0f-9b61-0c387e518886",
   "metadata": {},
   "outputs": [
    {
     "name": "stdout",
     "output_type": "stream",
     "text": [
      "995.7687997322442\n"
     ]
    }
   ],
   "source": [
    "print(PV_Compound(FV=1338.23,r_Percentage=6,n=5,t=2))"
   ]
  },
  {
   "cell_type": "markdown",
   "id": "95148527-55ce-4b71-9c6c-ea4e177f4cdd",
   "metadata": {},
   "source": [
    "**EXAMPLE 6**: How much would you have to deposit today at 10% so in 6 years\n",
    "you'd have $100,000?"
   ]
  },
  {
   "cell_type": "code",
   "execution_count": 11,
   "id": "80c2675c-4346-42fb-9fbc-638e2a315c4e",
   "metadata": {},
   "outputs": [
    {
     "name": "stdout",
     "output_type": "stream",
     "text": [
      "56447.39300537772\n"
     ]
    }
   ],
   "source": [
    "print(PV_Compound(FV=100000,r_Percentage=10,n=6,t=1))"
   ]
  },
  {
   "cell_type": "markdown",
   "id": "cc254ec5-fff0-489f-8774-903641b092c9",
   "metadata": {},
   "source": [
    "**EXAMPLE 7**: If you deposited $500 with rate \n",
    "\n",
    "of 8% today, how many years would it take to accumulate $1,000?\n",
    "\n"
   ]
  },
  {
   "cell_type": "code",
   "execution_count": 20,
   "id": "3482b4f5-5a8b-4342-b25e-d991631994f5",
   "metadata": {},
   "outputs": [
    {
     "name": "stdout",
     "output_type": "stream",
     "text": [
      "year: 9 Principal amount: 999.5023135522166\n"
     ]
    }
   ],
   "source": [
    "for n in range(2,20):\n",
    "    FV = FV_Compound(PV=500,r_Percentage=8,n=n,t=1)\n",
    "    if FV>=999:\n",
    "        print(\"year:\",n,\"Principal amount:\",FV)\n",
    "        break"
   ]
  },
  {
   "cell_type": "markdown",
   "id": "56fee6ca-1359-4475-a13f-5f16c43bc602",
   "metadata": {},
   "source": []
  },
  {
   "cell_type": "code",
   "execution_count": null,
   "id": "aae1e183-686b-4b73-a08c-9afb21aa040e",
   "metadata": {},
   "outputs": [],
   "source": []
  },
  {
   "cell_type": "code",
   "execution_count": 4,
   "id": "eb8d2b66-45a1-4e4e-b98b-cb641accbf8a",
   "metadata": {},
   "outputs": [
    {
     "name": "stdout",
     "output_type": "stream",
     "text": [
      "80551.9151516989\n"
     ]
    }
   ],
   "source": [
    "print(FV_Compound(PV=30000,r_Percentage=10,n=10,t=4))"
   ]
  },
  {
   "cell_type": "code",
   "execution_count": 5,
   "id": "63231805-bdee-4a49-90c0-667fbaf2917c",
   "metadata": {},
   "outputs": [
    {
     "name": "stdout",
     "output_type": "stream",
     "text": [
      "38472.297009164264\n"
     ]
    }
   ],
   "source": [
    "print(PV_Compound(FV=100000,r_Percentage=12,n=8,t=12))"
   ]
  },
  {
   "cell_type": "code",
   "execution_count": 7,
   "id": "8c67e4fe-c1f2-4e7e-add9-368a004729b8",
   "metadata": {},
   "outputs": [
    {
     "name": "stdout",
     "output_type": "stream",
     "text": [
      "year: 26 Principal amount: 1099999.6999353063\n"
     ]
    }
   ],
   "source": [
    "for n in range(1,100):\n",
    "    FV = FV_Compound(PV=83905.43,r_Percentage=10,n=n,t=1)\n",
    "    if FV>=1000000:\n",
    "        print(\"year:\",n-1,\"Principal amount:\",FV) #----- minus 1\n",
    "        break"
   ]
  },
  {
   "cell_type": "code",
   "execution_count": null,
   "id": "033920e4-8881-4d8f-808a-b27e182194e5",
   "metadata": {},
   "outputs": [],
   "source": []
  }
 ],
 "metadata": {
  "kernelspec": {
   "display_name": "Python 3 (ipykernel)",
   "language": "python",
   "name": "python3"
  },
  "language_info": {
   "codemirror_mode": {
    "name": "ipython",
    "version": 3
   },
   "file_extension": ".py",
   "mimetype": "text/x-python",
   "name": "python",
   "nbconvert_exporter": "python",
   "pygments_lexer": "ipython3",
   "version": "3.9.12"
  }
 },
 "nbformat": 4,
 "nbformat_minor": 5
}
