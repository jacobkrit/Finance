{
 "cells": [
  {
   "cell_type": "code",
   "execution_count": 1,
   "id": "78f608e9-e498-4a8e-a599-04f28867643d",
   "metadata": {},
   "outputs": [],
   "source": [
    "import numpy as np\n",
    "import pandas as pd\n",
    "import seaborn as sns\n",
    "import matplotlib.pyplot as plt\n",
    "import math\n",
    "from scipy import stats"
   ]
  },
  {
   "cell_type": "code",
   "execution_count": 2,
   "id": "21b811ff-3ce6-423f-95e8-f803d72b465b",
   "metadata": {},
   "outputs": [],
   "source": [
    "# FV: Future Value\n",
    "# PV: Present Value (Principal amount)\n",
    "# r: Compound Interest Rate\n",
    "# n: number of periods \n",
    "# t: times per period \n",
    "\n",
    "#--------------------------------- Simple Interest Forumla\n",
    "def FV_Simple(PV,r_Percentage,n,t):\n",
    "    r = r_Percentage/100\n",
    "    FV = PV*r*(n*t)\n",
    "    return FV\n",
    "\n",
    "#--------------------------------- Compound Interest Forumla (from Principal amount find future value)\n",
    "def FV_Compound(PV,r_Percentage,n,t):\n",
    "    r = r_Percentage/100\n",
    "    compound_factor = (1+(r/t))**(n*t)\n",
    "    FV = PV * compound_factor\n",
    "    return FV\n",
    "\n",
    "#--------------------------------- Compound Interest Forumla (from future value find Principal amount)\n",
    "def PV_Compound(FV,r_Percentage,n,t):\n",
    "    r = r_Percentage/100\n",
    "    discount_factor = 1/(1+(r/t))**(n*t)\n",
    "    PV = FV * discount_factor\n",
    "    return PV"
   ]
  },
  {
   "cell_type": "code",
   "execution_count": null,
   "id": "2f007b17-3c0a-409f-8c5e-1b11d9eaa459",
   "metadata": {},
   "outputs": [],
   "source": []
  },
  {
   "cell_type": "code",
   "execution_count": null,
   "id": "aae1e183-686b-4b73-a08c-9afb21aa040e",
   "metadata": {},
   "outputs": [],
   "source": []
  },
  {
   "cell_type": "code",
   "execution_count": 3,
   "id": "038676d8-df84-47ec-8be7-f3f4d2cde636",
   "metadata": {},
   "outputs": [
    {
     "name": "stdout",
     "output_type": "stream",
     "text": [
      "1348.8501525493075\n"
     ]
    }
   ],
   "source": [
    "print(FV_Compound(1000,6,5,12))"
   ]
  },
  {
   "cell_type": "code",
   "execution_count": 4,
   "id": "6551b7b1-3a98-4cb0-87e0-c7ace46431af",
   "metadata": {},
   "outputs": [
    {
     "name": "stdout",
     "output_type": "stream",
     "text": [
      "1000.0026941080066\n"
     ]
    }
   ],
   "source": [
    "print(PV_Compound(1343.92,6,5,2))"
   ]
  },
  {
   "cell_type": "code",
   "execution_count": null,
   "id": "eb8d2b66-45a1-4e4e-b98b-cb641accbf8a",
   "metadata": {},
   "outputs": [],
   "source": []
  },
  {
   "cell_type": "code",
   "execution_count": null,
   "id": "63231805-bdee-4a49-90c0-667fbaf2917c",
   "metadata": {},
   "outputs": [],
   "source": []
  }
 ],
 "metadata": {
  "kernelspec": {
   "display_name": "Python 3 (ipykernel)",
   "language": "python",
   "name": "python3"
  },
  "language_info": {
   "codemirror_mode": {
    "name": "ipython",
    "version": 3
   },
   "file_extension": ".py",
   "mimetype": "text/x-python",
   "name": "python",
   "nbconvert_exporter": "python",
   "pygments_lexer": "ipython3",
   "version": "3.9.12"
  }
 },
 "nbformat": 4,
 "nbformat_minor": 5
}
