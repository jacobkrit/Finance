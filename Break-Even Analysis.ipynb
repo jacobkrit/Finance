{
 "cells": [
  {
   "cell_type": "markdown",
   "id": "3ae5a0ac-4fc2-4e5d-8805-f9da57e60e0c",
   "metadata": {},
   "source": [
    "# Cost Volume Profit (Break-Even Analysis)\n",
    "\n",
    "$x$: number of units\n",
    "$SP$: Sales (income) from one unit.  \n",
    "$SP(x)$: Sales (income) from x units (assumption linear function of units: $SP(x)=SP*x$ where SP)   \n",
    "$VC$: Variable Cost of one unit   \n",
    "$VC(x)$: Variable Cost of x unitls (assumption linear function of units: $VC(x)=VC*x$)     \n",
    "$VCR$: Variable Costs Rate     \n",
    "$CM$: Contribution Margin of one unit  \n",
    "$CM(x)$: Contribution Margin of x unitls (assumption linear function of units: $CM(x)=CM*x$)   \n",
    "$CMR$: Contribution Margin Rate  \n",
    "$TFC$: Total Fixed Costss (fixed ammount)  \n",
    "$π$: Profit   \n",
    "\n",
    "$$SP(x)-VC(x)=CM(x)$$\n",
    "\n",
    "where: $CM*x = CM(x)$, $VC*x = VC(x)$, $SP*x = SP(x)$\n",
    "\n",
    "$$SP(x)-VC(x)-TFC=π$$ \n",
    "\n",
    "Break Even when π=0 => **units for Break Even**: \n",
    "$$x=\\frac{TFC}{CM}$$\n",
    "Dollars Sales **of break even: $=x*SP$**\n",
    "\n",
    "$$CMR=\\frac{CM}{sales}=\\frac{CM(x)}{SP(x)}$$\n",
    "$$VCR=\\frac{VC}{sales}=\\frac{VC(x)}{SP(x)}$$\n",
    "$$CMR+VCR = 1$$\n",
    "$$SP(x)=\\frac{TFC}{CMR}$$\n",
    "\n",
    "Profit Forumla: \n",
    "\n",
    "$$x=\\frac{TFC+π}{CM}$$\n",
    "$$SP(x)=\\frac{TFC+π}{CMR}$$"
   ]
  },
  {
   "cell_type": "code",
   "execution_count": 1,
   "id": "a00cc740-d263-4853-9265-33694a14cea2",
   "metadata": {},
   "outputs": [],
   "source": [
    "def CMR_formula(CM,SP):\n",
    "    CMR=CM/SP\n",
    "    return(CMR)\n",
    "\n",
    "def VCR_formula(VC,SP):\n",
    "    VCR=CV/SP\n",
    "    return(VCR)\n",
    "\n",
    "def break_even(TFC,CM,CMR):\n",
    "    units = TFC/CM\n",
    "    dollars=TFC/CMR\n",
    "    return (units,dollars)\n",
    "\n",
    "def profit_units(TFC,pi,CM,CMR):\n",
    "    units = (TFC+pi)/CM\n",
    "    dollars=(TFC+pi)/CMR\n",
    "    return (units,dollars)"
   ]
  },
  {
   "cell_type": "markdown",
   "id": "adb7efb7-5e87-461b-b858-882d76a89352",
   "metadata": {},
   "source": [
    "# Taxis\n",
    "\n",
    "$$Earnings After Taxes = Earnings Before Taxis - Taxes$$\n",
    "\n",
    "$t$: taxis percentage\n",
    "$π$: profit = Earnings After Taxes\n",
    "\n",
    "$$ Earnings Before Taxis = \\frac{π}{1-t}$$\n",
    "\n",
    "in units: $$x=\\frac{TFC+ \\frac{π}{1-t}}{CM}$$\n",
    "\n",
    "in dollars: $$SP(x)=\\frac{TFC+ \\frac{π}{1-t}}{CMR}$$"
   ]
  },
  {
   "cell_type": "code",
   "execution_count": 4,
   "id": "42be6d2e-80ae-4699-b177-4cd35379afd1",
   "metadata": {},
   "outputs": [
    {
     "name": "stdout",
     "output_type": "stream",
     "text": [
      "units: 1.25 dollars 10000000.0\n"
     ]
    }
   ],
   "source": [
    "def taxis_profit_units(TFC,pi,CM,CMR,t_percentage):\n",
    "    t=t_percentage/100\n",
    "    units = (TFC+(pi/(1-t)))/CM\n",
    "    dollars=(TFC+(pi/(1-t)))/CMR\n",
    "    return (units,dollars)\n",
    "\n",
    "VC=3600000\n",
    "SP=8000000\n",
    "CM=SP-VC\n",
    "CMR=CMR_formula(CM,SP)\n",
    "units, dollars = taxis_profit_units(2500000,2370000,CM,CMR,21)\n",
    "print(\"units:\",units,\"dollars\",dollars)"
   ]
  },
  {
   "cell_type": "code",
   "execution_count": null,
   "id": "a1e47ac2-7633-4f8c-870f-cfda16c1df03",
   "metadata": {},
   "outputs": [],
   "source": []
  },
  {
   "cell_type": "markdown",
   "id": "d805e89c-2571-45d7-97d0-597272861abf",
   "metadata": {},
   "source": [
    "$SP$: Sales (income) from one unit.  \n",
    "$SP(x)$: Sales (income) from x units (assumption linear function of units: $SP(x)=SP*x$ where SP)   \n",
    "$VC$: Variable Cost of one unit   \n",
    "$VC(x)$: Variable Cost of x unitls (assumption linear function of units: $VC(x)=VC*x$)     \n",
    "$VCR$: Variable Costs Rate     \n",
    "$CM$: Contribution Margin of one unit  \n",
    "$CM(x)$: Contribution Margin of x unitls (assumption linear function of units: $CM(x)=CM*x$)   \n",
    "$CMR$: Contribution Margin Rate  \n",
    "$TFC$: Total Fixed Costss (fixed ammount)  \n",
    "$π$: Profit   \n",
    "\n",
    "Break Even when $π=0 => SP(x)-VC(x)-TFC=0 => x=\\frac{TFC}{CM} => x=\\frac{257}{90} => x=3$  units"
   ]
  },
  {
   "cell_type": "markdown",
   "id": "2e62b2c8-c593-4c92-b5f5-52a382ad34ed",
   "metadata": {},
   "source": [
    "# Changing Parameters"
   ]
  },
  {
   "cell_type": "code",
   "execution_count": 16,
   "id": "83ba7cc3-d554-4547-9d87-b1c85ca1032d",
   "metadata": {},
   "outputs": [
    {
     "name": "stdout",
     "output_type": "stream",
     "text": [
      "units: 708333.3333333333 dollars 1416666.6666666665\n"
     ]
    }
   ],
   "source": [
    "SP = 2\n",
    "VC_first_group_of_units = 1.5\n",
    "VC_second_group_of_units = 1.4\n",
    "units_changes_threshold = 500000\n",
    "CM_first_group_of_units = SP - VC_first_group_of_units\n",
    "CM_second_group_of_units = SP - VC_second_group_of_units\n",
    "CMR_first_group_of_units = CM_first_group_of_units/SP\n",
    "CMR_second_group_of_units = CM_second_group_of_units/SP\n",
    "TFC_first_group_of_units = 100000\n",
    "TFC_second_group_of_units = 150000\n",
    "pi = 225000\n",
    "\n",
    "units = (TFC_second_group_of_units + pi - units_changes_threshold*CM_first_group_of_units)/CM_second_group_of_units + units_changes_threshold\n",
    "dollars = (TFC_second_group_of_units + pi - units_changes_threshold*CM_first_group_of_units)/CMR_second_group_of_units + units_changes_threshold*SP\n",
    "print(\"units:\",units,\"dollars\",dollars)"
   ]
  },
  {
   "cell_type": "code",
   "execution_count": 18,
   "id": "75822ef4-f814-4a48-b05d-3693cfd16775",
   "metadata": {},
   "outputs": [
    {
     "name": "stdout",
     "output_type": "stream",
     "text": [
      "12.0 24.0\n",
      "units: 92500.0 dollars 5000000.0\n"
     ]
    }
   ],
   "source": [
    "SP = 40\n",
    "units_changes_threshold = 60000\n",
    "CMR_first_group_of_units = 0.3\n",
    "CMR_second_group_of_units = 0.6\n",
    "TFC_first_group_of_units = 700000\n",
    "TFC_second_group_of_units = 1000000\n",
    "pi = 500000\n",
    "CM_first_group_of_units = CMR_first_group_of_units*SP\n",
    "CM_second_group_of_units = CMR_second_group_of_units*SP\n",
    "print(CM_first_group_of_units,CM_second_group_of_units)\n",
    "\n",
    "units = (TFC_second_group_of_units + pi - units_changes_threshold*CM_first_group_of_units)/CM_second_group_of_units + units_changes_threshold\n",
    "dollars = (TFC_second_group_of_units + pi - units_changes_threshold*CM_first_group_of_units)/CMR_first_group_of_units + units_changes_threshold*SP\n",
    "print(\"units:\",units,\"dollars\",dollars)"
   ]
  },
  {
   "cell_type": "code",
   "execution_count": null,
   "id": "a76bbc12-faec-4485-a9f5-c4e3b7219d57",
   "metadata": {},
   "outputs": [],
   "source": []
  }
 ],
 "metadata": {
  "kernelspec": {
   "display_name": "Python 3 (ipykernel)",
   "language": "python",
   "name": "python3"
  },
  "language_info": {
   "codemirror_mode": {
    "name": "ipython",
    "version": 3
   },
   "file_extension": ".py",
   "mimetype": "text/x-python",
   "name": "python",
   "nbconvert_exporter": "python",
   "pygments_lexer": "ipython3",
   "version": "3.9.12"
  }
 },
 "nbformat": 4,
 "nbformat_minor": 5
}
