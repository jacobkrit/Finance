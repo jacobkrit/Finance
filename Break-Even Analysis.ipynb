{
 "cells": [
  {
   "cell_type": "markdown",
   "id": "3ae5a0ac-4fc2-4e5d-8805-f9da57e60e0c",
   "metadata": {},
   "source": [
    "# Cost Volume Profit (Break-Even Analysis)\n",
    "\n",
    "$SP(x)$: Sales (assumption linear function of units)  \n",
    "$VC(x)$: Variable Cost (function of units)  \n",
    "$VCR$: Variable Costs Rate  \n",
    "$CM(x)$: Contribution Margin (function of units) \n",
    "$CMR$: Contribution Margin Rate  \n",
    "$TFC$: Total Fixed Costss (fixed ammount)  \n",
    "$π$: Profit   \n",
    "\n",
    "$$SP(x)-VC(x)=CM(x)$$\n",
    "\n",
    "$$SP(x)-VC(x)-TFC=π$$ \n",
    "\n",
    "Break Even when π=0 => units for Break Even \n",
    "$$x=\\frac{TFC}{\\frac{CM}{unit}}$$\n",
    "\n",
    "$$CMR=\\frac{CM}{sales}=\\frac{\\frac{CM}{unit}}{\\frac{SP}{unitl}}$$\n",
    "$$VCR=\\frac{VC}{sales}=\\frac{\\frac{VC}{unit}}{\\frac{SP}{unitl}}$$\n",
    "$$CMR+VCR = 1$$\n",
    "$$SP(x)=\\frac{TFC}{CMR}$$\n",
    "\n",
    "Profit Forumla: \n",
    "\n",
    "$$x=\\frac{TFC+π}{\\frac{CM}{unit}}$$\n",
    "$$SP(x)=\\frac{TFC+π}{CMR}$$\n",
    "\n",
    "$$FV=PR*\\frac{1+\\frac{r}{t}^{n*t} -1}{\\frac{r}{t}}$$ \n",
    "\n",
    "$$\\frac{CM}{unit} = \\frac{SP}{unit} - \\frac{VC}{unit}$$"
   ]
  },
  {
   "cell_type": "code",
   "execution_count": null,
   "id": "a00cc740-d263-4853-9265-33694a14cea2",
   "metadata": {},
   "outputs": [],
   "source": []
  }
 ],
 "metadata": {
  "kernelspec": {
   "display_name": "Python 3 (ipykernel)",
   "language": "python",
   "name": "python3"
  },
  "language_info": {
   "codemirror_mode": {
    "name": "ipython",
    "version": 3
   },
   "file_extension": ".py",
   "mimetype": "text/x-python",
   "name": "python",
   "nbconvert_exporter": "python",
   "pygments_lexer": "ipython3",
   "version": "3.9.12"
  }
 },
 "nbformat": 4,
 "nbformat_minor": 5
}
