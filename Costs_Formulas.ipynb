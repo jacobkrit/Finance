{
 "cells": [
  {
   "cell_type": "markdown",
   "id": "af8627b4-40cf-4520-a6b0-84c42ea9a081",
   "metadata": {},
   "source": [
    "**Cost**: is total amount of all production costs. \n",
    "\n",
    "\n",
    "- **Variable Costs**: changes with the activity level (Unit variable cost is stady)\n",
    "- **Fixed Costs**: do not changes with the activity level within a relevant range (Unit fixed cost: asymptotically)\n",
    "- **Semi-Fixed** or **Semi-Variable Costs**: cost composed of a mixture of both fixed and variable components\n",
    "\n",
    "High-Low Method: $y = a + bx$  \n",
    "\n",
    "$a$: fixed cost  \n",
    "$b$: variable cost  \n",
    "$x$: units  \n",
    "$y$: total cost  "
   ]
  },
  {
   "cell_type": "code",
   "execution_count": 1,
   "id": "90fa3e4b-889e-4059-af58-c897413627f0",
   "metadata": {},
   "outputs": [
    {
     "name": "stdout",
     "output_type": "stream",
     "text": [
      "Fixed Cost: 500000.0  Variable Cost per Unit: 30.0\n"
     ]
    }
   ],
   "source": [
    "#--------------------------------- Stable Fixed Costs\n",
    "def params_straight_line(unit_1,total_cost_1,unit_2,total_cost_2):\n",
    "    variable_cost = (total_cost_2-total_cost_1)/(unit_2-unit_1)\n",
    "    fixed_cost = total_cost_2-variable_cost*unit_2\n",
    "    return (fixed_cost,variable_cost)\n",
    "\n",
    "fixed_cost, variable_cost = params_straight_line(6000,680000,10000,800000)\n",
    "print(\"Fixed Cost:\",fixed_cost,\" Variable Cost per Unit:\",variable_cost)\n"
   ]
  },
  {
   "cell_type": "code",
   "execution_count": 2,
   "id": "cd71d4b3-8b21-4d3a-aa85-eb79a2fb69cd",
   "metadata": {},
   "outputs": [
    {
     "name": "stdout",
     "output_type": "stream",
     "text": [
      "Fixed Cost (only for first case): 130000.0  Variable Cost per Unit (global): 3.0\n"
     ]
    }
   ],
   "source": [
    "def params_escalate_straight_line(unit_1,total_cost_1,unit_2,total_cost_2,rate_Percentage):\n",
    "    rate = rate_Percentage/100\n",
    "    variable_cost = (total_cost_2-total_cost_1-total_cost_1*rate)/(unit_2-unit_1-unit_1*rate)\n",
    "    fixed_cost = total_cost_1-variable_cost*unit_1\n",
    "    return (fixed_cost,variable_cost)\n",
    "\n",
    "fixed_cost, variable_cost = params_escalate_straight_line(50000,280000,60000,342500,25)\n",
    "print(\"Fixed Cost (only for first case):\",fixed_cost,\" Variable Cost per Unit (global):\",variable_cost)"
   ]
  },
  {
   "cell_type": "code",
   "execution_count": 4,
   "id": "f5b652a0-e90c-4734-9d4c-d003fb00af79",
   "metadata": {},
   "outputs": [
    {
     "name": "stdout",
     "output_type": "stream",
     "text": [
      "Fixed Cost (only for first case): 200000.0  Variable Cost per Unit (global): 5.2\n"
     ]
    }
   ],
   "source": [
    "fixed_cost, variable_cost = params_escalate_straight_line(50000,460000,70000,614000,25)\n",
    "print(\"Fixed Cost (only for first case):\",fixed_cost,\" Variable Cost per Unit (global):\",variable_cost)"
   ]
  },
  {
   "cell_type": "code",
   "execution_count": 12,
   "id": "1961af98-9865-469d-bccd-9463a48d94d9",
   "metadata": {},
   "outputs": [
    {
     "data": {
      "text/plain": [
       "1501000"
      ]
     },
     "execution_count": 12,
     "metadata": {},
     "output_type": "execute_result"
    }
   ],
   "source": [
    "8000000-3600000-2500000 - 399000"
   ]
  },
  {
   "cell_type": "code",
   "execution_count": 9,
   "id": "ad270ebf-1bbd-4750-ab65-2096dc1399d4",
   "metadata": {},
   "outputs": [
    {
     "data": {
      "text/plain": [
       "8000000"
      ]
     },
     "execution_count": 9,
     "metadata": {},
     "output_type": "execute_result"
    }
   ],
   "source": [
    "1900000+2500000+3600000"
   ]
  },
  {
   "cell_type": "code",
   "execution_count": 11,
   "id": "fd66324b-41f4-4822-8af8-cf95957a8d34",
   "metadata": {},
   "outputs": [
    {
     "data": {
      "text/plain": [
       "399000.0"
      ]
     },
     "execution_count": 11,
     "metadata": {},
     "output_type": "execute_result"
    }
   ],
   "source": [
    "1900000*21/100"
   ]
  },
  {
   "cell_type": "code",
   "execution_count": null,
   "id": "185c3271-5cfa-4b58-a8a2-5d53303f8307",
   "metadata": {},
   "outputs": [],
   "source": []
  }
 ],
 "metadata": {
  "kernelspec": {
   "display_name": "Python 3 (ipykernel)",
   "language": "python",
   "name": "python3"
  },
  "language_info": {
   "codemirror_mode": {
    "name": "ipython",
    "version": 3
   },
   "file_extension": ".py",
   "mimetype": "text/x-python",
   "name": "python",
   "nbconvert_exporter": "python",
   "pygments_lexer": "ipython3",
   "version": "3.9.12"
  }
 },
 "nbformat": 4,
 "nbformat_minor": 5
}
