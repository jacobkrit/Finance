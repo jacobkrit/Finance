{
 "cells": [
  {
   "cell_type": "markdown",
   "id": "af8627b4-40cf-4520-a6b0-84c42ea9a081",
   "metadata": {},
   "source": [
    "**Cost**: is total amount of all production costs. \n",
    "\n",
    "\n",
    "- **Variable Costs**: changes with the activity level (Unit variable cost is stady)\n",
    "- **Fixed Costs**: do not changes with the activity level within a relevant range (Unit fixed cost: asymptotically)\n",
    "- **Semi-Fixed** or **Semi-Variable Costs**: cost composed of a mixture of both fixed and variable components\n",
    "\n",
    "High-Low Method: $y = a + bx$  \n",
    "\n",
    "$a$: fixed cost  \n",
    "$b$: variable cost  \n",
    "$x$: units  \n",
    "$y$: total cost  "
   ]
  },
  {
   "cell_type": "code",
   "execution_count": 45,
   "id": "90fa3e4b-889e-4059-af58-c897413627f0",
   "metadata": {},
   "outputs": [
    {
     "name": "stdout",
     "output_type": "stream",
     "text": [
      "Fixed Cost: 500000.0  Variable Cost: 30.0\n"
     ]
    }
   ],
   "source": [
    "#--------------------------------- Stable Fixed Costs\n",
    "def params_straight_line(unit_1,total_cost_1,unit_2,total_cost_2):\n",
    "    variable_cost = (total_cost_2-total_cost_1)/(unit_2-unit_1)\n",
    "    fixed_cost = total_cost_2-variable_cost*unit_2\n",
    "    return (fixed_cost,variable_cost)\n",
    "\n",
    "fixed_cost, variable_cost = params_straight_line(6000,680000,10000,800000)\n",
    "print(\"Fixed Cost:\",fixed_cost,\" Variable Cost per Unit:\",variable_cost)\n"
   ]
  },
  {
   "cell_type": "code",
   "execution_count": 53,
   "id": "cd71d4b3-8b21-4d3a-aa85-eb79a2fb69cd",
   "metadata": {},
   "outputs": [
    {
     "name": "stdout",
     "output_type": "stream",
     "text": [
      "Fixed Cost (only for first case): 130000.0  Variable Cost per Unit (global): 3.0\n"
     ]
    }
   ],
   "source": [
    "def params_escalate_straight_line(unit_1,total_cost_1,unit_2,total_cost_2,rate_Percentage):\n",
    "    rate = rate_Percentage/100\n",
    "    variable_cost = (total_cost_2-total_cost_1-total_cost_1*rate)/(unit_2-unit_1-unit_1*rate)\n",
    "    fixed_cost = total_cost_1-variable_cost*unit_1\n",
    "    return (fixed_cost,variable_cost)\n",
    "\n",
    "fixed_cost, variable_cost = params_escalate_straight_line(50000,280000,60000,342500,25)\n",
    "print(\"Fixed Cost (only for first case):\",fixed_cost,\" Variable Cost per Unit (global):\",variable_cost)"
   ]
  },
  {
   "cell_type": "code",
   "execution_count": null,
   "id": "f5b652a0-e90c-4734-9d4c-d003fb00af79",
   "metadata": {},
   "outputs": [],
   "source": []
  }
 ],
 "metadata": {
  "kernelspec": {
   "display_name": "Python 3 (ipykernel)",
   "language": "python",
   "name": "python3"
  },
  "language_info": {
   "codemirror_mode": {
    "name": "ipython",
    "version": 3
   },
   "file_extension": ".py",
   "mimetype": "text/x-python",
   "name": "python",
   "nbconvert_exporter": "python",
   "pygments_lexer": "ipython3",
   "version": "3.9.12"
  }
 },
 "nbformat": 4,
 "nbformat_minor": 5
}
