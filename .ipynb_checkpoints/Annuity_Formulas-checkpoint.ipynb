{
 "cells": [
  {
   "cell_type": "code",
   "execution_count": 5,
   "id": "85f44bfe-3b8c-4a7e-84f3-0fbf430ddc22",
   "metadata": {},
   "outputs": [],
   "source": [
    "# FVA: Future value Annuity\n",
    "# PVA: Future value Annuity\n",
    "# PR: Periodic value (value of each payment)\n",
    "# r: Annuity Interest Rate\n",
    "# n: number of periods \n",
    "# t: times per period \n",
    "\n",
    "#--------------------------------- Annuity\n",
    "# what your money is worth on the day you make the last payment (n*t)\n",
    "# when you pay each deposit PR money, for n*t times and with r as the Annuity Interest Rate\n",
    "def FV_Annuity(PR,r_Percentage,n,t):\n",
    "    r = r_Percentage/100\n",
    "    compound_annuity_factor = (((1+(r/t))**(n*t) -1)/(r/t))\n",
    "    FV = PR * compound_annuity_factor\n",
    "    return FV\n",
    "\n",
    "# how much money you have to deposit today/now (PV), in order to make PR money each time\n",
    "# for n*t times with r as the Annuity Interest Rate\n",
    "def PV_Annuity(PR,r_Percentage,n,t):\n",
    "    r = r_Percentage/100\n",
    "    discount_annuity_factor = ((1- (1/(1+r/t))**(n*t))/(r/t))\n",
    "    PV = PR * discount_annuity_factor\n",
    "    return PV"
   ]
  },
  {
   "cell_type": "code",
   "execution_count": 6,
   "id": "af02423f-0d4d-4768-8b4e-5b11465c6acb",
   "metadata": {},
   "outputs": [
    {
     "name": "stdout",
     "output_type": "stream",
     "text": [
      "6975.318537600006\n"
     ]
    }
   ],
   "source": [
    "print(FV_Annuity(1000,6,6,1))"
   ]
  },
  {
   "cell_type": "code",
   "execution_count": 7,
   "id": "eef8d281-9e73-4606-94db-d89ddc45c158",
   "metadata": {},
   "outputs": [
    {
     "name": "stdout",
     "output_type": "stream",
     "text": [
      "4917.324326005398\n"
     ]
    }
   ],
   "source": [
    "print(PV_Annuity(1000,6,6,1))"
   ]
  },
  {
   "cell_type": "code",
   "execution_count": 46,
   "id": "03417d10-8e56-482f-9be0-488e2f8d68d8",
   "metadata": {},
   "outputs": [],
   "source": [
    "# n: number of periods \n",
    "# t: times per period \n",
    "def Effective_Annual_Rate(r_Percentage,n,t):\n",
    "    r = r_Percentage/100\n",
    "    EAR = (1+r/(n*t))**(n*t) - 1\n",
    "    EAR_Percentage = EAR*100 \n",
    "    return EAR_Percentage"
   ]
  },
  {
   "cell_type": "code",
   "execution_count": 47,
   "id": "ecf6f5b6-a15e-49fe-bba6-5018a937da5d",
   "metadata": {},
   "outputs": [
    {
     "name": "stdout",
     "output_type": "stream",
     "text": [
      "7.229008085623589\n"
     ]
    }
   ],
   "source": [
    "print(Effective_Annual_Rate(7,1,12),\"%\")"
   ]
  },
  {
   "cell_type": "code",
   "execution_count": null,
   "id": "eb8d2b66-45a1-4e4e-b98b-cb641accbf8a",
   "metadata": {},
   "outputs": [],
   "source": []
  },
  {
   "cell_type": "code",
   "execution_count": null,
   "id": "63231805-bdee-4a49-90c0-667fbaf2917c",
   "metadata": {},
   "outputs": [],
   "source": []
  }
 ],
 "metadata": {
  "kernelspec": {
   "display_name": "Python 3 (ipykernel)",
   "language": "python",
   "name": "python3"
  },
  "language_info": {
   "codemirror_mode": {
    "name": "ipython",
    "version": 3
   },
   "file_extension": ".py",
   "mimetype": "text/x-python",
   "name": "python",
   "nbconvert_exporter": "python",
   "pygments_lexer": "ipython3",
   "version": "3.9.12"
  }
 },
 "nbformat": 4,
 "nbformat_minor": 5
}
