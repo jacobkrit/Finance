{
 "cells": [
  {
   "cell_type": "code",
   "execution_count": 1,
   "id": "85f44bfe-3b8c-4a7e-84f3-0fbf430ddc22",
   "metadata": {},
   "outputs": [],
   "source": [
    "# FVA: Future value Annuity\n",
    "# PVA: Present value Annuity\n",
    "# PR: Periodic value (value of each payment)\n",
    "# r: Annuity Interest Rate\n",
    "# n: number of periods \n",
    "# t: times per period \n",
    "\n",
    "#--------------------------------- Annuity\n",
    "# what your money is worth on the day you make the last payment (n*t)\n",
    "# when you pay each deposit PR money, for n*t times and with r as the Annuity Interest Rate\n",
    "def FV_Annuity(PR,r_Percentage,n,t):\n",
    "    r = r_Percentage/100\n",
    "    compound_annuity_factor = (((1+(r/t))**(n*t) -1)/(r/t))\n",
    "    FV = PR * compound_annuity_factor\n",
    "    return FV\n",
    "\n",
    "# how much money you have to deposit today/now (PV), in order to make PR money each time\n",
    "# for n*t times with r as the Annuity Interest Rate\n",
    "def PV_Annuity(PR,r_Percentage,n,t):\n",
    "    r = r_Percentage/100\n",
    "    discount_annuity_factor = ((1- (1/(1+r/t))**(n*t))/(r/t))\n",
    "    PV = PR * discount_annuity_factor\n",
    "    return PV\n",
    "\n",
    "# n: number of periods \n",
    "# t: times per period \n",
    "def Effective_Annual_Rate(r_Percentage,n,t):\n",
    "    r = r_Percentage/100\n",
    "    EAR = (1+r/(n*t))**(n*t) - 1\n",
    "    EAR_Percentage = EAR*100 \n",
    "    return EAR_Percentage"
   ]
  },
  {
   "cell_type": "markdown",
   "id": "13adef96-0128-41d0-b465-1bea9e6e8501",
   "metadata": {},
   "source": [
    "**Annuity**: series of payments of a fixed amount for a specified number of periods.\n",
    "- **Regular Annuity**: End ordinary annuity or annuity in arrears. (Paid at the end)\n",
    "- **Annuity Due**: Beginning annuity due or annuity in advance (paid at the beginning).\n",
    "- **Deferred annuity**: first payment is later than first period (paid first later).\n",
    "- **Perpetuities**: annuities paid forever.\n",
    "\n",
    "\n",
    "$$FV=PR*\\frac{1+\\frac{r}{t}^{n*t} -1}{\\frac{r}{t}}$$  \n",
    "\n",
    "$FVA$: Future value Annuity\n",
    "$PVA$: Present value Annuity\n",
    "$PR$: Periodic value (value of each payment)\n",
    "$r$: Annuity Interest Rate\n",
    "$n$: number of periods \n",
    "$t$: times per period "
   ]
  },
  {
   "cell_type": "markdown",
   "id": "ab01bad5-0252-4f67-b26e-38e31850a595",
   "metadata": {},
   "source": [
    "**EXAMPLE 3**: If you deposit $1000 on 12/31/X4, X5, X6, X7, X8, and X9 and earn 6%\n",
    "compounded annually, what amount would be accumulated by 12/31/X9?"
   ]
  },
  {
   "cell_type": "code",
   "execution_count": 6,
   "id": "bdce8cf4-e3e7-4628-aa92-9648740ead28",
   "metadata": {},
   "outputs": [
    {
     "name": "stdout",
     "output_type": "stream",
     "text": [
      "In this example we have to $1000 deposit at the end of those 6 months: X4, X5, X6, X7, X8, and X9\n",
      "6975.318537600006\n"
     ]
    }
   ],
   "source": [
    "print(\"In this example we have to $1000 deposit at the end of those 6 months: X4, X5, X6, X7, X8, and X9\")\n",
    "print(FV_Annuity(PR=1000,r_Percentage=6,n=6,t=1))"
   ]
  },
  {
   "cell_type": "markdown",
   "id": "0115a120-6f2c-4311-815a-0f5ca5ad67d0",
   "metadata": {},
   "source": [
    "**EXAMPLE 4**: What is the present value today of receiving $1000 at the end of each of the\n",
    "next six years if the interest rate is 6% compounded annually?"
   ]
  },
  {
   "cell_type": "code",
   "execution_count": 7,
   "id": "26aca545-357e-4177-87d9-1849bd7009c3",
   "metadata": {},
   "outputs": [
    {
     "name": "stdout",
     "output_type": "stream",
     "text": [
      "4917.324326005398\n"
     ]
    }
   ],
   "source": [
    "print(PV_Annuity(PR=1000,r_Percentage=6,n=6,t=1))"
   ]
  },
  {
   "cell_type": "markdown",
   "id": "170bd97a-ffcf-4119-ac12-5954460d45f0",
   "metadata": {},
   "source": [
    "**EXAMPLE 5**: If a lending company pays 7% compounded on a monthly basis,\n",
    "what is the effective annual rate?"
   ]
  },
  {
   "cell_type": "code",
   "execution_count": 10,
   "id": "8643781b-7fd9-4d39-82b8-fe15e4c0215b",
   "metadata": {},
   "outputs": [
    {
     "name": "stdout",
     "output_type": "stream",
     "text": [
      "7.229008085623589 %\n"
     ]
    }
   ],
   "source": [
    "print(Effective_Annual_Rate(7,1,12),\"%\")"
   ]
  },
  {
   "cell_type": "markdown",
   "id": "48ffd62a-b094-4f6d-b3c6-70eb9c950b3c",
   "metadata": {},
   "source": [
    "**EXAMPLE 9**: What is the PV of a $1,000 payment received at end of each of next 5 years\n",
    "if interest rate = 25%?"
   ]
  },
  {
   "cell_type": "code",
   "execution_count": 11,
   "id": "e7b41783-8b13-45d7-92a9-4d4c4151b19f",
   "metadata": {},
   "outputs": [
    {
     "name": "stdout",
     "output_type": "stream",
     "text": [
      "2689.2799999999997\n"
     ]
    }
   ],
   "source": [
    "print(PV_Annuity(PR=1000,r_Percentage=25,n=5,t=1))"
   ]
  },
  {
   "cell_type": "markdown",
   "id": "4109455f-8faa-4e0f-b0ff-10dd6c650635",
   "metadata": {},
   "source": [
    "**EXAMPLE 10**: If you want $10,000 in 8 years and the interest rate = 20%, how much must\n",
    "you deposit at end of each year?"
   ]
  },
  {
   "cell_type": "code",
   "execution_count": 14,
   "id": "63231805-bdee-4a49-90c0-667fbaf2917c",
   "metadata": {},
   "outputs": [
    {
     "name": "stdout",
     "output_type": "stream",
     "text": [
      "Periodic value: 607  Future value: 10014.944473599995\n"
     ]
    }
   ],
   "source": [
    "for PR in range(1,100000):\n",
    "    FV = FV_Annuity(PR=PR,r_Percentage=20,n=8,t=1)\n",
    "    if FV>=9999:\n",
    "        print(\"Periodic value:\",PR, \" Future value:\",FV)\n",
    "        break"
   ]
  },
  {
   "cell_type": "code",
   "execution_count": null,
   "id": "3999aedb-5232-4ea5-9a03-ff098761bd99",
   "metadata": {},
   "outputs": [],
   "source": []
  },
  {
   "cell_type": "code",
   "execution_count": 11,
   "id": "60e9debf-da92-45d6-acc8-db39afb90c26",
   "metadata": {},
   "outputs": [
    {
     "name": "stdout",
     "output_type": "stream",
     "text": [
      "131807.9494238091\n"
     ]
    }
   ],
   "source": [
    "print(FV_Annuity(PR=10000,r_Percentage=6,n=10,t=1))"
   ]
  },
  {
   "cell_type": "code",
   "execution_count": 6,
   "id": "218bd2a1-3cb1-4495-a7da-5c4154c8aed9",
   "metadata": {},
   "outputs": [
    {
     "name": "stdout",
     "output_type": "stream",
     "text": [
      "9531744.508246968\n"
     ]
    }
   ],
   "source": [
    "print(FV_Annuity(PR=300000,r_Percentage=10,n=15,t=1))"
   ]
  },
  {
   "cell_type": "code",
   "execution_count": 5,
   "id": "306e4286-88dc-4aa3-a40b-9643b14a6b07",
   "metadata": {},
   "outputs": [
    {
     "name": "stdout",
     "output_type": "stream",
     "text": [
      "2281823.8518925095\n"
     ]
    }
   ],
   "source": [
    "print(PV_Annuity(PR=300000,r_Percentage=10,n=15,t=1))"
   ]
  },
  {
   "cell_type": "code",
   "execution_count": 9,
   "id": "aaed0f81-3395-4741-86da-e5c952786f0f",
   "metadata": {},
   "outputs": [
    {
     "data": {
      "text/plain": [
       "468255.49175303243"
      ]
     },
     "execution_count": 9,
     "metadata": {},
     "output_type": "execute_result"
    }
   ],
   "source": [
    "10000000-9531744.508246968"
   ]
  },
  {
   "cell_type": "code",
   "execution_count": 10,
   "id": "d0b4c264-17a5-4f87-96b3-55abd915ecb8",
   "metadata": {},
   "outputs": [
    {
     "data": {
      "text/plain": [
       "7718176.15"
      ]
     },
     "execution_count": 10,
     "metadata": {},
     "output_type": "execute_result"
    }
   ],
   "source": [
    "10000000-2281823.85"
   ]
  },
  {
   "cell_type": "code",
   "execution_count": 16,
   "id": "e349add5-93be-4f59-b748-a40004be38f1",
   "metadata": {},
   "outputs": [
    {
     "name": "stdout",
     "output_type": "stream",
     "text": [
      "1010196.3176339145\n"
     ]
    }
   ],
   "source": [
    "print(115000+PV_Annuity(PR=115000,r_Percentage=12,n=24,t=1))"
   ]
  },
  {
   "cell_type": "code",
   "execution_count": 18,
   "id": "8df25375-d6e9-4460-b47f-421b3527b1e9",
   "metadata": {},
   "outputs": [
    {
     "name": "stdout",
     "output_type": "stream",
     "text": [
      "985882.3306552253\n"
     ]
    }
   ],
   "source": [
    "print(1080000-PV_Annuity(PR=12000,r_Percentage=12,n=25,t=1))"
   ]
  },
  {
   "cell_type": "code",
   "execution_count": 24,
   "id": "128e84c5-60a1-4bf6-ac0e-d11ff81131dc",
   "metadata": {},
   "outputs": [
    {
     "name": "stdout",
     "output_type": "stream",
     "text": [
      "129155.86329790582\n"
     ]
    }
   ],
   "source": [
    "print(FV_Annuity(PR=1000,r_Percentage=12,n=3,t=1)- FV_Annuity(PR=1000,r_Percentage=12,n=0,t=1)+\n",
    "     FV_Annuity(PR=1000,r_Percentage=12,n=9,t=1)-FV_Annuity(PR=1000,r_Percentage=12,n=4,t=1)\n",
    "     +FV_Annuity(PR=1000,r_Percentage=12,n=25,t=1)-FV_Annuity(PR=1000,r_Percentage=12,n=10,t=1))"
   ]
  },
  {
   "cell_type": "code",
   "execution_count": 2,
   "id": "d67ad3c1-4233-4310-98aa-1d417d3f410d",
   "metadata": {},
   "outputs": [
    {
     "name": "stdout",
     "output_type": "stream",
     "text": [
      "773809.8280938272\n"
     ]
    }
   ],
   "source": [
    "print(FV_Annuity(PR=5000,r_Percentage=6,n=40,t=1))"
   ]
  },
  {
   "cell_type": "code",
   "execution_count": 3,
   "id": "3418ba0a-9a54-4eb9-8d8a-ded432705db4",
   "metadata": {},
   "outputs": [
    {
     "name": "stdout",
     "output_type": "stream",
     "text": [
      "244669.69286121085\n"
     ]
    }
   ],
   "source": [
    "print(PV_Annuity(PR=20000,r_Percentage=8,n=50,t=1))"
   ]
  },
  {
   "cell_type": "code",
   "execution_count": 9,
   "id": "dcc6f59c-60ef-4586-93d7-22322d98af37",
   "metadata": {},
   "outputs": [
    {
     "name": "stdout",
     "output_type": "stream",
     "text": [
      "Periodic value: 17029  Future value: 99902.34774784012\n"
     ]
    }
   ],
   "source": [
    "for PR in range(1,100000):\n",
    "    FV = FV_Annuity(PR=PR,r_Percentage=8,n=5,t=1)\n",
    "    if FV>=99900:\n",
    "        print(\"Periodic value:\",PR, \" Future value:\",FV)\n",
    "        break"
   ]
  },
  {
   "cell_type": "code",
   "execution_count": null,
   "id": "18a84810-c550-4fc6-811b-dd614741226e",
   "metadata": {},
   "outputs": [],
   "source": []
  },
  {
   "cell_type": "code",
   "execution_count": null,
   "id": "919d7395-fa93-4997-ab86-0ddb345da3ef",
   "metadata": {},
   "outputs": [],
   "source": []
  },
  {
   "cell_type": "code",
   "execution_count": null,
   "id": "302998d2-09d6-43a5-b04c-fe7fda2b29db",
   "metadata": {},
   "outputs": [],
   "source": [
    "print(PV_Annuity(PR=1000,r_Percentage=6,n=6,t=1))"
   ]
  }
 ],
 "metadata": {
  "kernelspec": {
   "display_name": "Python 3 (ipykernel)",
   "language": "python",
   "name": "python3"
  },
  "language_info": {
   "codemirror_mode": {
    "name": "ipython",
    "version": 3
   },
   "file_extension": ".py",
   "mimetype": "text/x-python",
   "name": "python",
   "nbconvert_exporter": "python",
   "pygments_lexer": "ipython3",
   "version": "3.9.12"
  }
 },
 "nbformat": 4,
 "nbformat_minor": 5
}
