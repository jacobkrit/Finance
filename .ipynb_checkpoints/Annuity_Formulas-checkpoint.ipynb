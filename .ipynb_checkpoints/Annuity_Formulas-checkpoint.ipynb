{
 "cells": [
  {
   "cell_type": "code",
   "execution_count": 9,
   "id": "85f44bfe-3b8c-4a7e-84f3-0fbf430ddc22",
   "metadata": {},
   "outputs": [],
   "source": [
    "# FVA: Future value Annuity\n",
    "# PVA: Present value Annuity\n",
    "# PR: Periodic value (value of each payment)\n",
    "# r: Annuity Interest Rate\n",
    "# n: number of periods \n",
    "# t: times per period \n",
    "\n",
    "#--------------------------------- Annuity\n",
    "# what your money is worth on the day you make the last payment (n*t)\n",
    "# when you pay each deposit PR money, for n*t times and with r as the Annuity Interest Rate\n",
    "def FV_Annuity(PR,r_Percentage,n,t):\n",
    "    r = r_Percentage/100\n",
    "    compound_annuity_factor = (((1+(r/t))**(n*t) -1)/(r/t))\n",
    "    FV = PR * compound_annuity_factor\n",
    "    return FV\n",
    "\n",
    "# how much money you have to deposit today/now (PV), in order to make PR money each time\n",
    "# for n*t times with r as the Annuity Interest Rate\n",
    "def PV_Annuity(PR,r_Percentage,n,t):\n",
    "    r = r_Percentage/100\n",
    "    discount_annuity_factor = ((1- (1/(1+r/t))**(n*t))/(r/t))\n",
    "    PV = PR * discount_annuity_factor\n",
    "    return PV\n",
    "\n",
    "# n: number of periods \n",
    "# t: times per period \n",
    "def Effective_Annual_Rate(r_Percentage,n,t):\n",
    "    r = r_Percentage/100\n",
    "    EAR = (1+r/(n*t))**(n*t) - 1\n",
    "    EAR_Percentage = EAR*100 \n",
    "    return EAR_Percentage"
   ]
  },
  {
   "cell_type": "code",
   "execution_count": null,
   "id": "4f618170-a62f-42c0-8eac-ee9c8f6185da",
   "metadata": {},
   "outputs": [],
   "source": []
  },
  {
   "cell_type": "markdown",
   "id": "ab01bad5-0252-4f67-b26e-38e31850a595",
   "metadata": {},
   "source": [
    "**EXAMPLE 3**: If you deposit $1000 on 12/31/X4, X5, X6, X7, X8, and X9 and earn 6%\n",
    "compounded annually, what amount would be accumulated by 12/31/X9?"
   ]
  },
  {
   "cell_type": "code",
   "execution_count": 6,
   "id": "bdce8cf4-e3e7-4628-aa92-9648740ead28",
   "metadata": {},
   "outputs": [
    {
     "name": "stdout",
     "output_type": "stream",
     "text": [
      "In this example we have to $1000 deposit at the end of those 6 months: X4, X5, X6, X7, X8, and X9\n",
      "6975.318537600006\n"
     ]
    }
   ],
   "source": [
    "print(\"In this example we have to $1000 deposit at the end of those 6 months: X4, X5, X6, X7, X8, and X9\")\n",
    "print(FV_Annuity(PR=1000,r_Percentage=6,n=6,t=1))"
   ]
  },
  {
   "cell_type": "markdown",
   "id": "0115a120-6f2c-4311-815a-0f5ca5ad67d0",
   "metadata": {},
   "source": [
    "**EXAMPLE 4**: What is the present value today of receiving $1000 at the end of each of the\n",
    "next six years if the interest rate is 6% compounded annually?"
   ]
  },
  {
   "cell_type": "code",
   "execution_count": 7,
   "id": "26aca545-357e-4177-87d9-1849bd7009c3",
   "metadata": {},
   "outputs": [
    {
     "name": "stdout",
     "output_type": "stream",
     "text": [
      "4917.324326005398\n"
     ]
    }
   ],
   "source": [
    "print(PV_Annuity(PR=1000,r_Percentage=6,n=6,t=1))"
   ]
  },
  {
   "cell_type": "markdown",
   "id": "170bd97a-ffcf-4119-ac12-5954460d45f0",
   "metadata": {},
   "source": [
    "**EXAMPLE 5**: If a lending company pays 7% compounded on a monthly basis,\n",
    "what is the effective annual rate?"
   ]
  },
  {
   "cell_type": "code",
   "execution_count": 10,
   "id": "8643781b-7fd9-4d39-82b8-fe15e4c0215b",
   "metadata": {},
   "outputs": [
    {
     "name": "stdout",
     "output_type": "stream",
     "text": [
      "7.229008085623589 %\n"
     ]
    }
   ],
   "source": [
    "print(Effective_Annual_Rate(7,1,12),\"%\")"
   ]
  },
  {
   "cell_type": "markdown",
   "id": "48ffd62a-b094-4f6d-b3c6-70eb9c950b3c",
   "metadata": {},
   "source": [
    "**EXAMPLE 9**: What is the PV of a $1,000 payment received at end of each of next 5 years\n",
    "if interest rate = 25%?"
   ]
  },
  {
   "cell_type": "code",
   "execution_count": 11,
   "id": "e7b41783-8b13-45d7-92a9-4d4c4151b19f",
   "metadata": {},
   "outputs": [
    {
     "name": "stdout",
     "output_type": "stream",
     "text": [
      "2689.2799999999997\n"
     ]
    }
   ],
   "source": [
    "print(PV_Annuity(PR=1000,r_Percentage=25,n=5,t=1))"
   ]
  },
  {
   "cell_type": "markdown",
   "id": "4109455f-8faa-4e0f-b0ff-10dd6c650635",
   "metadata": {},
   "source": [
    "**EXAMPLE 10**: If you want $10,000 in 8 years and the interest rate = 20%, how much must\n",
    "you deposit at end of each year?"
   ]
  },
  {
   "cell_type": "code",
   "execution_count": 14,
   "id": "63231805-bdee-4a49-90c0-667fbaf2917c",
   "metadata": {},
   "outputs": [
    {
     "name": "stdout",
     "output_type": "stream",
     "text": [
      "Periodic value: 607  Future value: 10014.944473599995\n"
     ]
    }
   ],
   "source": [
    "for PR in range(1,100000):\n",
    "    FV = FV_Annuity(PR=PR,r_Percentage=20,n=8,t=1)\n",
    "    if FV>=9999:\n",
    "        print(\"Periodic value:\",PR, \" Future value:\",FV)\n",
    "        break"
   ]
  },
  {
   "cell_type": "code",
   "execution_count": null,
   "id": "3999aedb-5232-4ea5-9a03-ff098761bd99",
   "metadata": {},
   "outputs": [],
   "source": []
  }
 ],
 "metadata": {
  "kernelspec": {
   "display_name": "Python 3 (ipykernel)",
   "language": "python",
   "name": "python3"
  },
  "language_info": {
   "codemirror_mode": {
    "name": "ipython",
    "version": 3
   },
   "file_extension": ".py",
   "mimetype": "text/x-python",
   "name": "python",
   "nbconvert_exporter": "python",
   "pygments_lexer": "ipython3",
   "version": "3.9.12"
  }
 },
 "nbformat": 4,
 "nbformat_minor": 5
}
