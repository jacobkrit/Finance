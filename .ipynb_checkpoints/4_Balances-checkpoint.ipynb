{
 "cells": [
  {
   "cell_type": "markdown",
   "id": "b31bb740-1b23-4ad6-8a6d-135f2e8ccba0",
   "metadata": {},
   "source": [
    "<table>\n",
    "<tr><th>Equations</th>\n",
    "\n",
    "<tr><td>\n",
    "\n",
    "||Beginning Balance Items|\n",
    "|--|--|\n",
    "|**+**|Additional Items|\n",
    "|**=**|Avaialable Items|\n",
    "|**-**|Items Out|\n",
    "|**=**|End Balance Items|\n",
    "\n",
    "</td><td>\n",
    "\n",
    "||Beginning Cash|\n",
    "|--|--|\n",
    "|**+**|Cash_Receipts (C/R)|\n",
    "|**=**|Avaialble Cash|\n",
    "|**-**|Cash Disbursements|\n",
    "|**=**|End Cash|\n",
    "\n",
    "    \n",
    "</td><td>\n",
    "\n",
    "||Beginning Retained Earnings(RE)|\n",
    "|--|--|\n",
    "|**+**|Net Income(NI)|\n",
    "|**=**|Avaialable Earnings|\n",
    "|**-**|Dividends Declared |\n",
    "|**=**|End Retained Earnings (RE)|\n",
    "\n",
    "\n",
    "</td><td>\n",
    "\n",
    "||Beginning Accounts Receivable(A/R)|\n",
    "|--|--|\n",
    "|**+**|Credit Sales|\n",
    "|**=**|Avaialble Accounts|\n",
    "|**-**|Collections|\n",
    "|**=**|End Accounts Receivable(A/R)|\n",
    "\n",
    "</td><td>\n",
    " \n",
    "||Beginning Accounts Payable(A/P)|\n",
    "|--|--|\n",
    "|**+**|Purchases on Account|\n",
    "|**=**|Avaialble Accounts|\n",
    "|**-**|Cash PMTS|\n",
    "|**=**|End Accounts Payable(A/P)|\n",
    "    \n",
    "</td><td>\n",
    " \n",
    "||Beginning Inventory (INV)|\n",
    "|--|--|\n",
    "|**+**|Purchased/Manufactured|\n",
    "|**=**|Avaialble Inventory|\n",
    "|**-**|Cost of Product Sold CGS|\n",
    "|**=**|End Inventory (INV)|\n",
    "    \n",
    "</td></tr> </table>\n",
    "\n",
    "- **Purchased/Manufactured = Purchases on Account**"
   ]
  },
  {
   "cell_type": "code",
   "execution_count": 10,
   "id": "c7c407e1-05ff-4fb3-9c96-ba108ca5dff4",
   "metadata": {},
   "outputs": [],
   "source": [
    "from sympy import symbols, solve, Eq # lib for Solving Equations\n",
    "# Based on tutorial: https://problemsolvingwithpython.com/10-Symbolic-Math/10.05-Equations/\n",
    "\n",
    "# The value with -1 is set as the unknown value\n",
    "def Equation_Balance(X_1, X_2, X_3, X_4, X_5):\n",
    "    if(X_1 == -1):\n",
    "        X_1 = symbols('X_1')\n",
    "    if(X_2 == -1):\n",
    "        X_2 = symbols('X_2')\n",
    "    if(X_4 == -1):\n",
    "        X_4 = symbols('X_4')\n",
    "    if(X_5 == -1):\n",
    "        X_5 = symbols('X_5')\n",
    "    equation = X_1+X_2-X_4-X_5\n",
    "    sol = solve(equation)\n",
    "    return sol[0]\n"
   ]
  },
  {
   "cell_type": "code",
   "execution_count": 13,
   "id": "08610701-b56e-45c4-8adf-e44b4f5d1eac",
   "metadata": {},
   "outputs": [
    {
     "name": "stdout",
     "output_type": "stream",
     "text": [
      "13064\n",
      "34534\n"
     ]
    }
   ],
   "source": [
    "X_1=21470\n",
    "X_2=-1\n",
    "X_3=-1\n",
    "X_4=14059\n",
    "X_5=20475\n",
    "X_2=Equation_Balance(X_1,X_2,X_3,X_4,X_5)\n",
    "X_3=X_1+X_2\n",
    "print(X_2)\n",
    "print(X_3)"
   ]
  },
  {
   "cell_type": "code",
   "execution_count": null,
   "id": "f53c5165-0091-450d-bd05-5d6dfae2091b",
   "metadata": {},
   "outputs": [],
   "source": [
    "Beginning_Balance\n",
    "+Additional_Items\n",
    "=Avaialable_Items\n",
    "-Items_Out\n",
    "=End_Balance\n",
    "\n",
    "Beginning_Cash\n",
    "+Cash_Receipts (C/R)\n",
    "= Avaialble_Cash\n",
    "-Cash_Disbursements\n",
    "=End_Cash\n",
    "\n",
    "Beginning_Regretained_Earnings(RE)\n",
    "-Net_Income(NI)\n",
    "=Avaialable_Earnings\n",
    "-Dividends_Declared \n",
    "=End_Regretained_Earnings\n",
    "\n",
    "Beginning_Accounts_Receivable(A/R)\n",
    "+Credit_Sales\n",
    "=Avaialble_Accounts\n",
    "-Collections\n",
    "=End_Accounts_Receivable(A/R)"
   ]
  }
 ],
 "metadata": {
  "kernelspec": {
   "display_name": "Python 3 (ipykernel)",
   "language": "python",
   "name": "python3"
  },
  "language_info": {
   "codemirror_mode": {
    "name": "ipython",
    "version": 3
   },
   "file_extension": ".py",
   "mimetype": "text/x-python",
   "name": "python",
   "nbconvert_exporter": "python",
   "pygments_lexer": "ipython3",
   "version": "3.9.12"
  }
 },
 "nbformat": 4,
 "nbformat_minor": 5
}
