{
 "cells": [
  {
   "cell_type": "markdown",
   "id": "3ae5a0ac-4fc2-4e5d-8805-f9da57e60e0c",
   "metadata": {},
   "source": [
    "# Cost Volume Profit (Break-Even Analysis)\n",
    "\n",
    "$SP$: Sales (income) from one unit.  \n",
    "$SP(x)$: Sales (income) from x units (assumption linear function of units: $SP(x)=SP*x$ where SP)   \n",
    "$VC$: Variable Cost of one unit   \n",
    "$VC(x)$: Variable Cost of x unitls (assumption linear function of units: $VC(x)=VC*x$)     \n",
    "$VCR$: Variable Costs Rate     \n",
    "$CM$: Contribution Margin of one unit  \n",
    "$CM(x)$: Contribution Margin of x unitls (assumption linear function of units: $CM(x)=CM*x$)   \n",
    "$CMR$: Contribution Margin Rate  \n",
    "$TFC$: Total Fixed Costss (fixed ammount)  \n",
    "$π$: Profit   \n",
    "\n",
    "$$SP(x)-VC(x)=CM(x)$$\n",
    "\n",
    "where: $CM*x = CM(x)$, $VC*x = VC(x)$, $SP*x = SP(x)$\n",
    "\n",
    "$$SP(x)-VC(x)-TFC=π$$ \n",
    "\n",
    "Break Even when π=0 => units for Break Even \n",
    "$$x=\\frac{TFC}{CM}$$\n",
    "\n",
    "$$CMR=\\frac{CM}{sales}=\\frac{CM(x)}{SP(x)}$$\n",
    "$$VCR=\\frac{VC}{sales}=\\frac{VC(x)}{SP(x)}$$\n",
    "$$CMR+VCR = 1$$\n",
    "$$SP(x)=\\frac{TFC}{CMR}$$\n",
    "\n",
    "Profit Forumla: \n",
    "\n",
    "$$x=\\frac{TFC+π}{CM}$$\n",
    "$$SP(x)=\\frac{TFC+π}{CMR}$$"
   ]
  },
  {
   "cell_type": "code",
   "execution_count": null,
   "id": "a00cc740-d263-4853-9265-33694a14cea2",
   "metadata": {},
   "outputs": [],
   "source": []
  },
  {
   "cell_type": "markdown",
   "id": "adb7efb7-5e87-461b-b858-882d76a89352",
   "metadata": {},
   "source": [
    "# Taxis\n",
    "\n",
    "$$Earnings After Taxes = Earnings Before Taxis - Taxes$$\n",
    "\n",
    "$t$: taxis percentage\n",
    "$π$: profit = Earnings After Taxes\n",
    "\n",
    "$$ Earnings Before Taxis = \\frac{π}{1-t}$$\n",
    "\n",
    "in units: $$x=\\frac{TFC+ \\frac{π}{1-t}}{CM}$$\n",
    "\n",
    "in dollars: $$SP(x)=\\frac{TFC+ \\frac{π}{1-t}}{CMR}$$"
   ]
  },
  {
   "cell_type": "code",
   "execution_count": 1,
   "id": "42be6d2e-80ae-4699-b177-4cd35379afd1",
   "metadata": {},
   "outputs": [
    {
     "data": {
      "text/plain": [
       "0.6"
      ]
     },
     "execution_count": 1,
     "metadata": {},
     "output_type": "execute_result"
    }
   ],
   "source": [
    "(0.5+(0.15/0.6))/(2-0.75)"
   ]
  },
  {
   "cell_type": "code",
   "execution_count": null,
   "id": "e4609857-38de-499b-a988-c98cf2edabfc",
   "metadata": {},
   "outputs": [],
   "source": []
  }
 ],
 "metadata": {
  "kernelspec": {
   "display_name": "Python 3 (ipykernel)",
   "language": "python",
   "name": "python3"
  },
  "language_info": {
   "codemirror_mode": {
    "name": "ipython",
    "version": 3
   },
   "file_extension": ".py",
   "mimetype": "text/x-python",
   "name": "python",
   "nbconvert_exporter": "python",
   "pygments_lexer": "ipython3",
   "version": "3.9.12"
  }
 },
 "nbformat": 4,
 "nbformat_minor": 5
}
