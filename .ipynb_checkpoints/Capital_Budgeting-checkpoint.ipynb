{
 "cells": [
  {
   "cell_type": "code",
   "execution_count": 1,
   "id": "5d73d8d9-31a3-47b2-9104-19e17d4e91bd",
   "metadata": {},
   "outputs": [],
   "source": [
    "import numpy as np # linear algebra\n",
    "\n",
    "# C_TC: Total Cost\n",
    "# C_DP: Cash Depreciation\n",
    "# C_SV: Cash Savings\n",
    "# C_SL: Cash Salvage \n",
    "# NIBT: Net Income Before Taxes\n",
    "# NIAT: Net Income After Taxes\n",
    "# CFAT: Cashflow After Taxes\n",
    "# NPV: Net Present Value (Present Value inflows - Present Value outflows)\n",
    "# PI: Profitability Index\n",
    "# K: Cost of Capital \n",
    "# t: Taxes\n",
    "# IRR: INTERNAL RATE OF RETURN\n",
    "# AAR: Accrual Account Return\n",
    "\n",
    "def Depreciation_Formula(C_TC, C_SL, years):\n",
    "    C_DP = (C_TC-C_SL)/years\n",
    "    return(C_DP)\n",
    "    \n",
    "#----- 4-Rules Formula\n",
    "def CFAT_Formula_4_Rules(C_SV, C_DP, t_percentage):\n",
    "    t = t_percentage/100\n",
    "    cash_inflow_from_depreciation = C_DP * t\n",
    "    cash_inflow_from_saving = C_SV * (1-t)\n",
    "    CFAT = cash_inflow_from_depreciation + cash_inflow_from_saving\n",
    "    return(CFAT)\n",
    "\n",
    "#----- 7-Steps Formula\n",
    "def CFAT_Formula_7_Steps(C_SV, C_DP, t_percentage): \n",
    "    t = t_percentage/100\n",
    "    NIBT = C_SV - C_DP\n",
    "    Taxes = NIBT * t\n",
    "    NIAT = NIBT - Taxes\n",
    "    CFAT = NIAT + C_DP\n",
    "    return (CFAT,NIAT)\n",
    "\n",
    "def Payback_Formula(C_TC, CFAT):\n",
    "    return (C_TC/CFAT)\n",
    "\n",
    "def NPV_Formula(C_TC,CFAT,K_percentage,years):\n",
    "    K = K_percentage/100\n",
    "    Cash_Inflows = CFAT*((1-(1/(1+K))**years)/K)\n",
    "    Cash_Outflows = C_TC\n",
    "    NPV = - Cash_Inflows + Cash_Outflows\n",
    "    return(NPV)\n",
    "\n",
    "def PI_Formula(C_TC,CFAT,K_percentage,years):\n",
    "    K = K_percentage/100\n",
    "    Cash_Inflows = CFAT*((1-(1/(1+K))**years)/K)\n",
    "    Cash_Outflows = C_TC\n",
    "    PI = Cash_Inflows/Cash_Outflows\n",
    "    return(PI)\n",
    "\n",
    "def IRR_Formula(Payback,K_percentage,years):\n",
    "    K = K_percentage/100\n",
    "    difference_val = np.abs(Payback - ((1-(1/(1+K))**years)/K))\n",
    "    min_difference_val = difference_val\n",
    "    while difference_val>0.02:\n",
    "        K +=0.01\n",
    "        difference_val = np.abs(Payback - ((1-(1/(1+K))**years)/K))\n",
    "        if(min_difference_val>difference_val):\n",
    "            min_difference_val = difference_val\n",
    "            min_K = K*100\n",
    "        if(K>K_percentage/100+0.2):\n",
    "            break\n",
    "    return (min_difference_val,min_K)\n",
    "\n",
    "def AAR_Formula(NIAT,C_TC):\n",
    "    return(NIAT/C_TC*100)"
   ]
  },
  {
   "cell_type": "code",
   "execution_count": 2,
   "id": "b0d7d12c-eeb8-472d-97c0-9aff31529df8",
   "metadata": {},
   "outputs": [
    {
     "name": "stdout",
     "output_type": "stream",
     "text": [
      "Depreciation: 5000.0\n",
      "CFAT 4 Rules: 6800.0\n",
      "CFAT 7 Steps: 6800.0\n",
      "GOOD\n",
      "Payback: 2.9411764705882355\n",
      "Net Present Value: -653.9755570595698\n",
      "NPV - so decline\n",
      "Profitability Index: 1.0326987778529786\n",
      "PI + so Accept\n",
      "0.027464166089589792 14.000000000000002\n",
      "AAR: 9.0 %\n"
     ]
    }
   ],
   "source": [
    "C_TC = 20000\n",
    "C_SL = 0\n",
    "C_SV = 8000\n",
    "years = 4\n",
    "t_percentage = 40\n",
    "K_percentage = 12\n",
    "\n",
    "C_DP = Depreciation_Formula(C_TC,C_SL,years)\n",
    "print(\"Depreciation:\",C_DP)\n",
    "CFAT_4_Rules = CFAT_Formula_4_Rules(C_SV, C_DP, t_percentage)\n",
    "print(\"CFAT 4 Rules:\", CFAT_4_Rules)\n",
    "CFAT_7_Steps,NIAT = CFAT_Formula_7_Steps(C_SV, C_DP, t_percentage)\n",
    "print(\"CFAT 7 Steps:\", CFAT_7_Steps) \n",
    "if (CFAT_4_Rules==CFAT_7_Steps):\n",
    "    print(\"GOOD\")\n",
    "    CFAT = CFAT_4_Rules\n",
    "else:\n",
    "    print(\"ERROR\")\n",
    "Payback = Payback_Formula(C_TC, CFAT)\n",
    "print(\"Payback:\",Payback)\n",
    "NPV = NPV_Formula(C_TC,CFAT,K_percentage,years)\n",
    "print(\"Net Present Value:\",NPV)\n",
    "if(NPV>0):\n",
    "    print(\"NPV + so Accept\")\n",
    "else:\n",
    "    print(\"NPV - so decline\")\n",
    "    \n",
    "PI = PI_Formula(C_TC,CFAT,K_percentage,years)\n",
    "print(\"Profitability Index:\",PI)\n",
    "if(PI>1):\n",
    "    print(\"PI + so Accept\")\n",
    "else:\n",
    "    print(\"PI - so decline\")\n",
    "    \n",
    "min_difference_val,K = IRR_Formula(Payback,K_percentage,years)\n",
    "print(min_difference_val,K)\n",
    "\n",
    "AAR = AAR_Formula(NIAT,C_TC)\n",
    "print(\"AAR:\",AAR,\"%\")"
   ]
  },
  {
   "cell_type": "markdown",
   "id": "1fd225ff-120d-42b7-8a36-935f34e1ab1d",
   "metadata": {},
   "source": []
  },
  {
   "cell_type": "markdown",
   "id": "a2889697-bb7a-4527-82d1-29ff98ea63b6",
   "metadata": {},
   "source": []
  },
  {
   "cell_type": "code",
   "execution_count": 4,
   "id": "794e0a82-01ef-45a3-9a49-02df154a4ec0",
   "metadata": {},
   "outputs": [
    {
     "name": "stdout",
     "output_type": "stream",
     "text": [
      "Depreciation: 13000.0\n",
      "CFAT 4 Rules: 26200.0\n",
      "CFAT 7 Steps: 26200.0\n",
      "GOOD\n"
     ]
    }
   ],
   "source": [
    "#Quizz 2 Question 6 ----------------------\n",
    "\n",
    "C_TC = 78000\n",
    "C_SL = 0\n",
    "C_SV = 35000\n",
    "years = 6\n",
    "t_percentage = 40\n",
    "K_percentage = 12\n",
    "\n",
    "C_DP = Depreciation_Formula(C_TC,C_SL,years)\n",
    "print(\"Depreciation:\",C_DP)\n",
    "CFAT_4_Rules = CFAT_Formula_4_Rules(C_SV, C_DP, t_percentage)\n",
    "print(\"CFAT 4 Rules:\", CFAT_4_Rules)\n",
    "CFAT_7_Steps,NIAT = CFAT_Formula_7_Steps(C_SV, C_DP, t_percentage)\n",
    "print(\"CFAT 7 Steps:\", CFAT_7_Steps) \n",
    "if (CFAT_4_Rules==CFAT_7_Steps):\n",
    "    print(\"GOOD\")\n",
    "    CFAT = CFAT_4_Rules\n",
    "else:\n",
    "    print(\"ERROR\")"
   ]
  },
  {
   "cell_type": "code",
   "execution_count": 13,
   "id": "1a72751d-69a1-4a41-9512-0671d45e4f2f",
   "metadata": {},
   "outputs": [
    {
     "name": "stdout",
     "output_type": "stream",
     "text": [
      "Depreciation: 70000.0\n",
      "CFAT 4 Rules: 93700.0\n",
      "-----\n",
      "Depreciation: 70000.0\n",
      "NIBT: 30000.0\n",
      "Taxes: 6300.0\n",
      "NIAT: 23700.0\n",
      "CFAT: 93700.0\n",
      "-----\n",
      "CFAT 7 Steps: 93700.0\n",
      "GOOD\n",
      "Net Present Value: 5404.099999999977\n",
      "NPV + so Accept\n"
     ]
    }
   ],
   "source": [
    "#Quizz 2 Question 7 ----------------------\n",
    "\n",
    "C_TC = 350000\n",
    "C_SL = 0\n",
    "C_SV = 100000\n",
    "years = 5\n",
    "t_percentage = 21\n",
    "K_percentage = 10\n",
    "\n",
    "#----- 7-Steps Formula\n",
    "def CFAT_Formula_7_Steps(C_SV, C_DP, t_percentage): \n",
    "    print(\"-----\")\n",
    "    print(\"Depreciation:\",C_DP)\n",
    "    t = t_percentage/100\n",
    "    NIBT = C_SV - C_DP\n",
    "    print(\"NIBT:\",NIBT)\n",
    "    Taxes = NIBT * t\n",
    "    print(\"Taxes:\",Taxes)\n",
    "    NIAT = NIBT - Taxes\n",
    "    print(\"NIAT:\",NIAT)\n",
    "    CFAT = NIAT + C_DP\n",
    "    print(\"CFAT:\",CFAT)\n",
    "    print(\"-----\")\n",
    "    return (CFAT,NIAT)\n",
    "\n",
    "C_DP = Depreciation_Formula(C_TC,C_SL,years)\n",
    "print(\"Depreciation:\",C_DP)\n",
    "CFAT_4_Rules = CFAT_Formula_4_Rules(C_SV, C_DP, t_percentage)\n",
    "print(\"CFAT 4 Rules:\", CFAT_4_Rules)\n",
    "CFAT_7_Steps,NIAT = CFAT_Formula_7_Steps(C_SV, C_DP, t_percentage)\n",
    "print(\"CFAT 7 Steps:\", CFAT_7_Steps) \n",
    "if (CFAT_4_Rules==CFAT_7_Steps):\n",
    "    print(\"GOOD\")\n",
    "    CFAT = CFAT_4_Rules\n",
    "else:\n",
    "    print(\"ERROR\")\n",
    "\n",
    "\n",
    "#NPV = -C_TC + (CFAT*0.909+ CFAT*0.826+ CFAT*0.751+ CFAT*0.683+ CFAT*0.620)\n",
    "NPV = -C_TC + (CFAT*0.91+ CFAT*0.83+ CFAT*0.75+ CFAT*0.683+ CFAT*0.62)\n",
    "print(\"Net Present Value:\",NPV)\n",
    "if(NPV>0):\n",
    "    print(\"NPV + so Accept\")\n",
    "else:\n",
    "    print(\"NPV - so decline\")\n"
   ]
  },
  {
   "cell_type": "code",
   "execution_count": 25,
   "id": "5db2b032-0084-4752-8fae-7bd8eabbf277",
   "metadata": {},
   "outputs": [
    {
     "name": "stdout",
     "output_type": "stream",
     "text": [
      "Depreciation: 7400.0\n",
      "[10000, 10000, 10000, 10000, 10000, 8000, 8000, 8000, 8000, 8000]\n",
      "year: 1 current cumulative CFAT: 10000\n",
      "year: 2 current cumulative CFAT: 20000\n",
      "year: 3 current cumulative CFAT: 30000\n",
      "year: 4 current cumulative CFAT: 40000\n",
      "year: 5 current cumulative CFAT: 50000\n",
      "year: 6 current cumulative CFAT: 58000\n",
      "year: 7 current cumulative CFAT: 66000\n",
      "year: 8 current cumulative CFAT: 74000\n",
      "Needed from Last year: 8000\n",
      "year: 8  CFAT for payback: 74000\n",
      "Accurate Years of Payback: 8.0\n"
     ]
    }
   ],
   "source": [
    "#Quizz 2 Question 8 ----------------------\n",
    "C_TC = 74000\n",
    "C_SL = 0\n",
    "years = 10\n",
    "C_DP = Depreciation_Formula(C_TC,C_SL,years)\n",
    "print(\"Depreciation:\",C_DP)\n",
    "NI_years_1_5 = 10000\n",
    "NI_years_6_10 = 8000\n",
    "\n",
    "CFAT_years_1_5 = NI_years_1_5\n",
    "CFAT_years_6_10 = NI_years_6_10\n",
    "\n",
    "# About the payback, because I have different Cash flow each year\n",
    "# I have to add my cashflows until I get the Total Cost (C_TC)\n",
    "# First I crearte a list of all the cashflow values from different years\n",
    "CFAT_years = [CFAT_years_1_5,CFAT_years_1_5,CFAT_years_1_5,CFAT_years_1_5,CFAT_years_1_5,\n",
    "              CFAT_years_6_10,CFAT_years_6_10,CFAT_years_6_10,CFAT_years_6_10,CFAT_years_6_10]\n",
    "\n",
    "print(CFAT_years) \n",
    "cumulative_CFAT = 0\n",
    "year_of_payback = 0\n",
    "needed_CFAT_from_last_year = 0\n",
    "for year in range(0,10):\n",
    "    if(cumulative_CFAT<C_TC):\n",
    "        cumulative_CFAT +=CFAT_years[year]\n",
    "        year_of_payback = year+1\n",
    "        print(\"year:\",year_of_payback,\"current cumulative CFAT:\",cumulative_CFAT)\n",
    "    else:\n",
    "        #even if its accurate the value will be 1\n",
    "        needed_CFAT_from_last_year = CFAT_years[year_of_payback-1] - (cumulative_CFAT - C_TC)\n",
    "        print(\"Needed from Last year:\",needed_CFAT_from_last_year)\n",
    "        break\n",
    "print(\"year:\",year_of_payback,\" CFAT for payback:\",cumulative_CFAT)\n",
    "accurate_year_of_payback = (year_of_payback-1) + needed_CFAT_from_last_year/CFAT_years[year_of_payback-2]\n",
    "print(\"Accurate Years of Payback:\",accurate_year_of_payback)\n"
   ]
  },
  {
   "cell_type": "code",
   "execution_count": 27,
   "id": "16cc395a-3229-47e6-b821-857962334f57",
   "metadata": {},
   "outputs": [
    {
     "name": "stdout",
     "output_type": "stream",
     "text": [
      "PV year 1: 27840.0 PV year 2: 21280.0 PV year 3: 19800.0\n",
      "Year 4 CFAT: 37600.0\n"
     ]
    }
   ],
   "source": [
    "#Quizz 2 Question 9 ----------------------\n",
    "C_TC = 86352\n",
    "C_SL = 0\n",
    "C_SV = 100000\n",
    "years = 4\n",
    "t_percentage = 21\n",
    "K_percentage = 15\n",
    "\n",
    "CFAT_year_1 = 32000\n",
    "CFAT_year_2 = 28000\n",
    "CFAT_year_3 = 30000\n",
    "NPV = 4000\n",
    "PV_year_1 = CFAT_year_1*0.87\n",
    "PV_year_2 = CFAT_year_2*0.76\n",
    "PV_year_3 = CFAT_year_3*0.66\n",
    "print(\"PV year 1:\",PV_year_1,\"PV year 2:\",PV_year_2,\"PV year 3:\",PV_year_3)\n",
    "\n",
    "PV_year_4 = NPV + C_TC - (PV_year_1+PV_year_2+PV_year_3)\n",
    "CFAT_year_4 = PV_year_4 / 0.57\n",
    "print(\"Year 4 CFAT:\",CFAT_year_4)"
   ]
  },
  {
   "cell_type": "code",
   "execution_count": 37,
   "id": "2bb2fc33-8f7e-497a-9b73-86ddf35640bd",
   "metadata": {},
   "outputs": [
    {
     "name": "stdout",
     "output_type": "stream",
     "text": [
      "Depreciation: 16000.0\n",
      "Present Values per Year: [21840. 19920. 18000. 16320. 14880. 13440. 12240. 11280. 10080.  9360.]\n",
      "year: 1 current cumulative CFAT: 24000\n",
      "year: 2 current cumulative CFAT: 48000\n",
      "year: 3 current cumulative CFAT: 72000\n",
      "year: 4 current cumulative CFAT: 96000\n",
      "year: 5 current cumulative CFAT: 120000\n",
      "year: 6 current cumulative CFAT: 144000\n",
      "year: 7 current cumulative CFAT: 168000\n",
      "Needed from Last year: 16000\n",
      "year: 7  CFAT for payback: 168000\n",
      "Accurate Years of Payback: 6.666666666666667\n",
      "0.04341473227478332 8.0\n"
     ]
    }
   ],
   "source": [
    "#Quizz 2 Question 10 ----------------------\n",
    "C_TC = 160000\n",
    "C_SL = 0\n",
    "years = 10\n",
    "C_DP = Depreciation_Formula(C_TC,C_SL,years)\n",
    "print(\"Depreciation:\",C_DP)\n",
    "\n",
    "CFAT_years=[24000,24000,24000,24000,24000,24000,24000,24000,24000,24000]\n",
    "compound_interest_rates=[0.91,0.83,0.75,0.68,0.62,0.56,0.51,0.47,0.42,0.39]\n",
    "PV_years=[]\n",
    "for year in range(0,10):\n",
    "    PV_years.append(CFAT_years[year] * compound_interest_rates[year])\n",
    "PV_years = np.array(PV_years)\n",
    "print(\"Present Values per Year:\",PV_years)\n",
    "\n",
    "# About the payback, because I we have same Cash flow each year\n",
    "# But different Compound Interest Rate of each year\n",
    "# I have to add my cashflows until I get the Total Cost (C_TC)\n",
    "# First I crearte a list of all the cashflow values from different years\n",
    "\n",
    "cumulative_CFAT = 0\n",
    "year_of_payback = 0\n",
    "needed_CFAT_from_last_year = 0\n",
    "for year in range(0,10):\n",
    "    if(cumulative_CFAT<C_TC):\n",
    "        cumulative_CFAT +=CFAT_years[year]\n",
    "        year_of_payback = year+1\n",
    "        print(\"year:\",year_of_payback,\"current cumulative CFAT:\",cumulative_CFAT)\n",
    "    else:\n",
    "        #even if its accurate the value will be 1\n",
    "        needed_CFAT_from_last_year = CFAT_years[year_of_payback-1] - (cumulative_CFAT - C_TC)\n",
    "        print(\"Needed from Last year:\",needed_CFAT_from_last_year)\n",
    "        break\n",
    "print(\"year:\",year_of_payback,\" CFAT for payback:\",cumulative_CFAT)\n",
    "accurate_year_of_payback = (year_of_payback-1) + needed_CFAT_from_last_year/CFAT_years[year_of_payback-2]\n",
    "print(\"Accurate Years of Payback:\",accurate_year_of_payback)\n",
    "\n",
    "K_percentage = 4\n",
    "min_difference_val,K = IRR_Formula(accurate_year_of_payback,K_percentage,years)\n",
    "print(min_difference_val,K)"
   ]
  },
  {
   "cell_type": "code",
   "execution_count": 5,
   "id": "92de6336-69d1-4d7c-b910-ca9d09aa65cf",
   "metadata": {},
   "outputs": [],
   "source": [
    "import matplotlib.pyplot as plt"
   ]
  },
  {
   "cell_type": "code",
   "execution_count": 8,
   "id": "7972b476-663b-42a8-b83f-8854abb94137",
   "metadata": {},
   "outputs": [
    {
     "name": "stdout",
     "output_type": "stream",
     "text": [
      "99\n"
     ]
    }
   ],
   "source": [
    "def IRR_Formula_without_K(Payback,years):\n",
    "    K = 0.01\n",
    "    Ks = []\n",
    "    Differences = []\n",
    "    min_difference_val = 100\n",
    "    while K<1:\n",
    "        difference_val = np.abs(Payback - ((1-(1/(1+K))**years)/K))\n",
    "        Differences.append(difference_val)\n",
    "        Ks.append(K)\n",
    "        K +=0.01\n",
    "    return (Ks,Differences)\n",
    "\n",
    "Ks,Differences = IRR_Formula_without_K(6.7,10)\n",
    "print(len(Ks))"
   ]
  },
  {
   "cell_type": "code",
   "execution_count": 11,
   "id": "e34deae9-64ca-416b-bc96-a7a13fadc67d",
   "metadata": {},
   "outputs": [
    {
     "name": "stdout",
     "output_type": "stream",
     "text": [
      "[2.7713045307016744, 2.282585006242255, 1.830202836775828, 1.4108957793550418, 1.0217349291848201, 0.6600870514147053, 0.3235815409326017, 0.010081398941450104, 0.2823422988409874, 0.5554328942953157, 0.8107679888587969, 1.0497769715891359, 1.2737565240471174, 1.4838843537064204, 1.6812313741457725, 1.8667725215425293, 2.0413963722664974, 2.205913705075589, 2.3610651330403813, 2.5075279144492297, 2.645922038210209, 2.77681566736608, 2.9007300140144765, 3.01814370995704, 3.1294967296000014, 3.2351939148342392, 3.3356081456975146, 3.4310831954479655, 3.5219363041549734, 3.6084605009546866, 3.6909267016482197, 3.7695856052768293, 3.844669410634836, 3.9163933713300443, 3.9849572059317073, 4.050546377921975, 4.113333258557377, 4.173478184325441, 4.23113041942471, 4.286429032584021, 4.339503696551316, 4.390475417708107, 4.439457202489663, 4.486554666601339, 4.531866592407971, 4.575485439327029, 4.617497811569393, 4.657984887137322, 4.697022811601393, 4.734683059831666, 4.77103276854827, 4.8061350422791005, 4.840049235063562, 4.872831210018264, 4.904533578680295, 4.935205921863853, 4.9648949936042355, 4.993644909617633, 5.0214973215741, 5.048491578362883, 5.074664875422741, 5.100052393113613, 5.124687425019113, 5.148601496990674, 5.171824477673064, 5.1943846811866035, 5.216308962583005, 5.237622806638876, 5.25835041050286, 5.278514760668794, 5.298137704707582, 5.317240018154481, 5.335841466915634, 5.35396086552784, 5.371616131578311, 5.38882433656632, 5.40560175346602, 5.421963901228987, 5.437925586446163, 5.453500942371574, 5.4687034654944116, 5.483546049831556, 5.498041019099397, 5.512200156911634, 5.5260347351385946, 5.539555540553413, 5.552772899880963, 5.565696703356874, 5.5783364268959925, 5.590701152962366, 5.602799590226109, 5.61464009208636, 5.626230674133776, 5.637579030620848, 5.6486925500034015, 5.659578329612236, 5.670243189509678, 5.6806936855820735, 5.690936121915652]\n"
     ]
    }
   ],
   "source": [
    "print(Differences)"
   ]
  },
  {
   "cell_type": "code",
   "execution_count": 12,
   "id": "4550e281-5db2-4448-9566-977e24c0df46",
   "metadata": {},
   "outputs": [
    {
     "data": {
      "image/png": "[encoded data removed]",
      "text/plain": [
       "<Figure size 432x288 with 1 Axes>"
      ]
     },
     "metadata": {
      "needs_background": "light"
     },
     "output_type": "display_data"
    }
   ],
   "source": [
    "plt.plot(Differences)\n",
    "plt.show(Differences)"
   ]
  },
  {
   "cell_type": "code",
   "execution_count": 15,
   "id": "72fe27f9-cdcc-4259-85a4-4e4648b56cc9",
   "metadata": {},
   "outputs": [
    {
     "name": "stdout",
     "output_type": "stream",
     "text": [
      "0.010081398941450104 7\n"
     ]
    }
   ],
   "source": [
    "def Min_Index_of_List(mylist):\n",
    "    min_val = max(mylist)\n",
    "    min_index = 0\n",
    "    for i in range(0,len(mylist)):\n",
    "        if mylist[i]<min_val:\n",
    "            min_val = mylist[i]\n",
    "            min_index = i\n",
    "    return(min_val,min_index)\n",
    "            \n",
    "min_value, min_index = Min_Index_of_List(Differences)\n",
    "print(min_value,min_index)"
   ]
  },
  {
   "cell_type": "code",
   "execution_count": null,
   "id": "b10f3eba-d6c1-4d5e-914f-6fb4f4117e21",
   "metadata": {},
   "outputs": [],
   "source": []
  }
 ],
 "metadata": {
  "kernelspec": {
   "display_name": "Python 3 (ipykernel)",
   "language": "python",
   "name": "python3"
  },
  "language_info": {
   "codemirror_mode": {
    "name": "ipython",
    "version": 3
   },
   "file_extension": ".py",
   "mimetype": "text/x-python",
   "name": "python",
   "nbconvert_exporter": "python",
   "pygments_lexer": "ipython3",
   "version": "3.9.12"
  }
 },
 "nbformat": 4,
 "nbformat_minor": 5
}
