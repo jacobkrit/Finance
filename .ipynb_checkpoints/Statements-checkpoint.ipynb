{
 "cells": [
  {
   "cell_type": "code",
   "execution_count": 5,
   "id": "8087ecc2-1537-4726-834e-3bd1fb796ebc",
   "metadata": {},
   "outputs": [],
   "source": [
    "from sympy import symbols, solve # lib for Solving Equations"
   ]
  },
  {
   "cell_type": "markdown",
   "id": "1ea39adc-c49f-4bed-ac36-553ebb063158",
   "metadata": {},
   "source": [
    "\n",
    "<center><h3>B/S (Balance Sheet)</h1></center>\n",
    "\n",
    "<table>\n",
    "<tr><th>Assets </th><th>Liabilities</th></tr>\n",
    "<tr><td>\n",
    "\n",
    "|Assets||Values|Values|\n",
    "|--|--|--|--|\n",
    "|Cash **+**||9+||\n",
    "|A/R (Accounts Receiable) **+** ||10+||\n",
    "|Supplies **+**||8+||\n",
    "|Equipment||12||\n",
    "||**=** Total Assets||=39|\n",
    "    \n",
    "</td><td>\n",
    "\n",
    "|Liabilities|||Values|Values|Values| \n",
    "|--|--|--|--|--|--|\n",
    "|A/P (Accounts Payable)|||5|||\n",
    "||=T.L.(Total Liabilities)|||=5||\n",
    "|C.S. (Common Stock) **+**|||18+|||\n",
    "|RE (Retained Earnings)|||16|||\n",
    "||=S.E. (Shareholders Equity)|||=34||\n",
    "|||**=** T.L. + S.E.|||=39|\n",
    "    \n",
    "</td></tr> </table>\n",
    "\n",
    "\n",
    "<center><h3>I/S (Income Statement)</h1></center>\n",
    "\n",
    "<table>\n",
    "<tr><th>Assets </th>\n",
    "<tr><td>\n",
    "\n",
    "|I/S||Values|Values|\n",
    "|--|--|--|--|\n",
    "|Revennues||71||\n",
    "|**-** Expenses||-6-9-40||\n",
    "||**=** Net Income||=55|\n",
    "    \n",
    "</td><td>"
   ]
  },
  {
   "cell_type": "code",
   "execution_count": 25,
   "id": "f963aa0f-b4ac-46d6-8520-1d36e3293e49",
   "metadata": {},
   "outputs": [],
   "source": [
    "# The value with -1 is set as the unknown value\n",
    "def Assets_Equation(Cash, Accounts_Receiable, Supplies, Equipment, Total_Assets):\n",
    "    if(Cash == -1):\n",
    "        Cash = symbols('Cash')\n",
    "    if(Accounts_Receiable == -1):\n",
    "        Accounts_Receiable = symbols('Accounts_Receiable')\n",
    "    if(Supplies == -1):\n",
    "        Supplies = symbols('Supplies')\n",
    "    if(Equipment == -1):\n",
    "        Equipment = symbols('Equipment')\n",
    "    if(Total_Assets == -1):\n",
    "        Total_Assets = symbols('Total_Assets')\n",
    "    equation = Cash+Accounts_Receiable+Supplies+Equipment-Total_Assets\n",
    "    sol = solve(equation)\n",
    "    return sol[0]\n",
    "\n",
    "# The value with -1 is set as the unknown value\n",
    "def Income_Statement_Equation(Revennues, Expenses, Net_Income):\n",
    "    if(Revennues == -1):\n",
    "        Revennues = symbols('Revennues')\n",
    "    if(Expenses == -1):\n",
    "        Expenses = symbols('Expenses')\n",
    "    if(Net_Income == -1):\n",
    "        Net_Income = symbols('Net_Income')\n",
    "    equation = Revennues-Expenses-Net_Income\n",
    "    sol = solve(equation)\n",
    "    return sol[0]\n",
    "\n",
    "# The value with -1 is set as the unknown value\n",
    "# Accounts_Payable = Total_Liabilities\n",
    "def Liabilities_Equation(Accounts_Payable, Common_Stock, Retained_Earnings, Total_Liab_and_Sharehold_Equity):\n",
    "    if(Accounts_Payable == -1):\n",
    "        Accounts_Payable = symbols('Accounts_Payable')\n",
    "    if(Common_Stock == -1):\n",
    "        Common_Stock = symbols('Common_Stock')\n",
    "    if(Retained_Earnings == -1):\n",
    "        Retained_Earnings = symbols('Retained_Earnings')\n",
    "    if(Total_Liab_and_Sharehold_Equity == -1):\n",
    "        Total_Liab_and_Sharehold_Equity = symbols('Total_Liab_and_Sharehold_Equity')\n",
    "    equation = Accounts_Payable+Common_Stock+Retained_Earnings-Total_Liab_and_Sharehold_Equity\n",
    "    sol = solve(equation)\n",
    "    return sol[0]"
   ]
  },
  {
   "cell_type": "code",
   "execution_count": null,
   "id": "775623fc-1bd2-41bc-b744-722c6381cd3f",
   "metadata": {},
   "outputs": [],
   "source": []
  },
  {
   "cell_type": "code",
   "execution_count": 26,
   "id": "77ec5c83-155b-467e-b331-afa16d1d847e",
   "metadata": {},
   "outputs": [
    {
     "name": "stdout",
     "output_type": "stream",
     "text": [
      "Total Assets: 39\n",
      "Net Income: 16\n",
      "Common Stock: 18\n"
     ]
    }
   ],
   "source": [
    "\n",
    "        \n",
    "Total_Assets = Assets_Equation(Cash=9, Accounts_Receiable=10, Supplies=8, Equipment=12, Total_Assets=-1)\n",
    "print(\"Total Assets:\",Total_Assets)\n",
    "\n",
    "Net_Income = Income_Statement_Equation(Revennues=71, Expenses=6+9+40, Net_Income=-1)\n",
    "print(\"Net Income:\",Net_Income)\n",
    "\n",
    "Common_Stock = Liabilities_Equation(Accounts_Payable=5, Common_Stock=-1, Retained_Earnings=16, Total_Liab_and_Sharehold_Equity=39)\n",
    "print(\"Common Stock:\",Common_Stock)"
   ]
  },
  {
   "cell_type": "code",
   "execution_count": null,
   "id": "9b2f8205-aca4-4c74-a162-0fe8289f86cd",
   "metadata": {},
   "outputs": [],
   "source": [
    "x, y = symbols('x y')\n",
    "eq1 = Eq(x + y - 5)\n",
    "eq2 = Eq(x - y + 3)\n",
    "solve((eq1,eq2), (x, y))"
   ]
  },
  {
   "cell_type": "code",
   "execution_count": null,
   "id": "5fbb4b80-b961-408c-8580-d4cd06ab3d37",
   "metadata": {},
   "outputs": [],
   "source": [
    "Cash=9\n",
    "Accounts_Receiable=10\n",
    "Supplies=8\n",
    "Equipment=12\n",
    "Total_Assets=-1\n",
    "\n",
    "Revennues=71\n",
    "Expenses=6+9+40\n",
    "Net_Income=-1\n",
    "\n",
    "Accounts_Payable=5\n",
    "Common_Stock=-1\n",
    "Retained_Earnings=16\n",
    "Total_Liab_and_Sharehold_Equity=39"
   ]
  },
  {
   "cell_type": "code",
   "execution_count": null,
   "id": "8d3fe963-c669-405d-80ba-8a884dd19cf9",
   "metadata": {},
   "outputs": [],
   "source": [
    "# Total_Assets = Total_Liab_and_Sharehold_Equity\n",
    "# Net_Income = Retained_Earnings\n",
    "# Accounts_Payable = Total_Liabilities\n",
    "\n",
    "equation = Total_Assets - Total_Liab_and_Sharehold_Equity\n",
    "equation = Net_Income - Retained_Earnings\n",
    "equation = Cash+Accounts_Receiable+Supplies+Equipment-Total_Assets\n",
    "equation = Revennues-Expenses-Net_Income\n",
    "equation = Accounts_Payable+Common_Stock+Retained_Earnings-Total_Liab_and_Sharehold_Equity"
   ]
  },
  {
   "cell_type": "code",
   "execution_count": null,
   "id": "b67bc24c-dd37-42c2-a308-a7960a1b4fb7",
   "metadata": {},
   "outputs": [],
   "source": [
    "Cash=9\n",
    "Accounts_Receiable=10\n",
    "Supplies=8\n",
    "Equipment=12\n",
    "Total_Assets=-1\n",
    "\n",
    "Accounts_Payable=5\n",
    "Common_Stock=-1\n",
    "Retained_Earnings=16\n",
    "Total_Liab_and_Sharehold_Equity=-1\n",
    "\n",
    "equation = Total_Assets - Total_Liab_and_Sharehold_Equity\n",
    "equation = Cash+Accounts_Receiable+Supplies+Equipment-Total_Assets\n",
    "equation = Accounts_Payable+Common_Stock+Retained_Earnings-Total_Liab_and_Sharehold_Equity"
   ]
  }
 ],
 "metadata": {
  "kernelspec": {
   "display_name": "Python 3 (ipykernel)",
   "language": "python",
   "name": "python3"
  },
  "language_info": {
   "codemirror_mode": {
    "name": "ipython",
    "version": 3
   },
   "file_extension": ".py",
   "mimetype": "text/x-python",
   "name": "python",
   "nbconvert_exporter": "python",
   "pygments_lexer": "ipython3",
   "version": "3.9.12"
  }
 },
 "nbformat": 4,
 "nbformat_minor": 5
}
