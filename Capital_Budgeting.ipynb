{
 "cells": [
  {
   "cell_type": "code",
   "execution_count": 1,
   "id": "5d73d8d9-31a3-47b2-9104-19e17d4e91bd",
   "metadata": {},
   "outputs": [],
   "source": [
    "import numpy as np # linear algebra\n",
    "\n",
    "# C_TC: Total Cost\n",
    "# C_DP: Cash Depreciation\n",
    "# C_SV: Cash Savings\n",
    "# C_SL: Cash Salvage \n",
    "# NIBT: Net Income Before Taxes\n",
    "# NIAT: Net Income After Taxes\n",
    "# CFAT: Cashflow After Taxes\n",
    "# NPV: Net Present Value (Present Value inflows - Present Value outflows)\n",
    "# PI: Profitability Index\n",
    "# K: Cost of Capital \n",
    "# t: Taxes\n",
    "# IRR: INTERNAL RATE OF RETURN\n",
    "# AAR: Accrual Account Return\n",
    "\n",
    "def Depreciation_Formula(C_TC, C_SL, years):\n",
    "    C_DP = (C_TC-C_SL)/years\n",
    "    return(C_DP)\n",
    "    \n",
    "#----- 4-Rules Formula\n",
    "def CFAT_Formula_4_Rules(C_SV, C_DP, t_percentage):\n",
    "    t = t_percentage/100\n",
    "    cash_inflow_from_depreciation = C_DP * t\n",
    "    cash_inflow_from_saving = C_SV * (1-t)\n",
    "    CFAT = cash_inflow_from_depreciation + cash_inflow_from_saving\n",
    "    return(CFAT)\n",
    "\n",
    "#----- 7-Steps Formula\n",
    "def CFAT_Formula_7_Steps(C_SV, C_DP, t_percentage): \n",
    "    t = t_percentage/100\n",
    "    NIBT = C_SV - C_DP\n",
    "    Taxes = NIBT * t\n",
    "    NIAT = NIBT - Taxes\n",
    "    CFAT = NIAT + C_DP\n",
    "    return (CFAT,NIAT)\n",
    "\n",
    "def Payback_Formula(C_TC, CFAT):\n",
    "    return (C_TC/CFAT)\n",
    "\n",
    "def NPV_Formula(C_TC,CFAT,K_percentage,years):\n",
    "    K = K_percentage/100\n",
    "    Cash_Inflows = CFAT*((1-(1/(1+K))**years)/K)\n",
    "    Cash_Outflows = C_TC\n",
    "    NPV = - Cash_Inflows + Cash_Outflows\n",
    "    return(NPV)\n",
    "\n",
    "def PI_Formula(C_TC,CFAT,K_percentage,years):\n",
    "    K = K_percentage/100\n",
    "    Cash_Inflows = CFAT*((1-(1/(1+K))**years)/K)\n",
    "    Cash_Outflows = C_TC\n",
    "    PI = Cash_Inflows/Cash_Outflows\n",
    "    return(PI)\n",
    "\n",
    "def IRR_Formula(Payback,K_percentage,years):\n",
    "    K = K_percentage/100\n",
    "    difference_val = np.abs(Payback - ((1-(1/(1+K))**years)/K))\n",
    "    min_difference_val = difference_val\n",
    "    while difference_val>0.02:\n",
    "        K +=0.01\n",
    "        difference_val = np.abs(Payback - ((1-(1/(1+K))**years)/K))\n",
    "        if(min_difference_val>difference_val):\n",
    "            min_difference_val = difference_val\n",
    "            min_K = K*100\n",
    "        if(K>K_percentage/100+0.2):\n",
    "            break\n",
    "    return (min_difference_val,min_K)\n",
    "\n",
    "def AAR_Formula(NIAT,C_TC):\n",
    "    return(NIAT/C_TC*100)"
   ]
  },
  {
   "cell_type": "code",
   "execution_count": 2,
   "id": "b0d7d12c-eeb8-472d-97c0-9aff31529df8",
   "metadata": {},
   "outputs": [
    {
     "name": "stdout",
     "output_type": "stream",
     "text": [
      "Depreciation: 5000.0\n",
      "CFAT 4 Rules: 6800.0\n",
      "CFAT 7 Steps: 6800.0\n",
      "GOOD\n",
      "Payback: 2.9411764705882355\n",
      "Net Present Value: -653.9755570595698\n",
      "NPV - so decline\n",
      "Profitability Index: 1.0326987778529786\n",
      "PI + so Accept\n",
      "0.027464166089589792 14.000000000000002\n",
      "AAR: 9.0 %\n"
     ]
    }
   ],
   "source": [
    "C_TC = 20000\n",
    "C_SL = 0\n",
    "C_SV = 8000\n",
    "years = 4\n",
    "t_percentage = 40\n",
    "K_percentage = 12\n",
    "\n",
    "C_DP = Depreciation_Formula(C_TC,C_SL,years)\n",
    "print(\"Depreciation:\",C_DP)\n",
    "CFAT_4_Rules = CFAT_Formula_4_Rules(C_SV, C_DP, t_percentage)\n",
    "print(\"CFAT 4 Rules:\", CFAT_4_Rules)\n",
    "CFAT_7_Steps,NIAT = CFAT_Formula_7_Steps(C_SV, C_DP, t_percentage)\n",
    "print(\"CFAT 7 Steps:\", CFAT_7_Steps) \n",
    "if (CFAT_4_Rules==CFAT_7_Steps):\n",
    "    print(\"GOOD\")\n",
    "    CFAT = CFAT_4_Rules\n",
    "else:\n",
    "    print(\"ERROR\")\n",
    "Payback = Payback_Formula(C_TC, CFAT)\n",
    "print(\"Payback:\",Payback)\n",
    "NPV = NPV_Formula(C_TC,CFAT,K_percentage,years)\n",
    "print(\"Net Present Value:\",NPV)\n",
    "if(NPV>0):\n",
    "    print(\"NPV + so Accept\")\n",
    "else:\n",
    "    print(\"NPV - so decline\")\n",
    "    \n",
    "PI = PI_Formula(C_TC,CFAT,K_percentage,years)\n",
    "print(\"Profitability Index:\",PI)\n",
    "if(PI>1):\n",
    "    print(\"PI + so Accept\")\n",
    "else:\n",
    "    print(\"PI - so decline\")\n",
    "    \n",
    "min_difference_val,K = IRR_Formula(Payback,K_percentage,years)\n",
    "print(min_difference_val,K)\n",
    "\n",
    "AAR = AAR_Formula(NIAT,C_TC)\n",
    "print(\"AAR:\",AAR,\"%\")"
   ]
  },
  {
   "cell_type": "markdown",
   "id": "1fd225ff-120d-42b7-8a36-935f34e1ab1d",
   "metadata": {},
   "source": []
  },
  {
   "cell_type": "markdown",
   "id": "a2889697-bb7a-4527-82d1-29ff98ea63b6",
   "metadata": {},
   "source": [
    "## Quizz 2 Question 6\n",
    "\n",
    "Jake is considering purchasing an investment costing dollars 78,000 that will save power costs of dollars 35,000 a year for each of 6 years. The investment will be depreciated on a straight-line basis with dollars 0 salvage value over 6 years. The tax rate is 40%. What are the cash flows after taxes each year?"
   ]
  },
  {
   "cell_type": "code",
   "execution_count": 4,
   "id": "794e0a82-01ef-45a3-9a49-02df154a4ec0",
   "metadata": {},
   "outputs": [
    {
     "name": "stdout",
     "output_type": "stream",
     "text": [
      "Depreciation: 13000.0\n",
      "CFAT 4 Rules: 26200.0\n",
      "CFAT 7 Steps: 26200.0\n",
      "GOOD\n"
     ]
    }
   ],
   "source": [
    "#Quizz 2 Question 6 ----------------------\n",
    "C_TC = 78000\n",
    "C_SL = 0\n",
    "C_SV = 35000\n",
    "years = 6\n",
    "t_percentage = 40\n",
    "K_percentage = 12\n",
    "\n",
    "C_DP = Depreciation_Formula(C_TC,C_SL,years)\n",
    "print(\"Depreciation:\",C_DP)\n",
    "CFAT_4_Rules = CFAT_Formula_4_Rules(C_SV, C_DP, t_percentage)\n",
    "print(\"CFAT 4 Rules:\", CFAT_4_Rules)\n",
    "CFAT_7_Steps,NIAT = CFAT_Formula_7_Steps(C_SV, C_DP, t_percentage)\n",
    "print(\"CFAT 7 Steps:\", CFAT_7_Steps) \n",
    "if (CFAT_4_Rules==CFAT_7_Steps):\n",
    "    print(\"GOOD\")\n",
    "    CFAT = CFAT_4_Rules\n",
    "else:\n",
    "    print(\"ERROR\")"
   ]
  },
  {
   "cell_type": "code",
   "execution_count": 64,
   "id": "1d38bd3c-573f-4a90-9054-e1c91c77e229",
   "metadata": {},
   "outputs": [],
   "source": [
    "#------------ For the following time of exercises we need\n",
    "#------------ Compound Interest Forumla (from future value find Principal amount)\n",
    "def PV_Compound(FV,r_Percentage,n,t):\n",
    "    r = r_Percentage/100\n",
    "    discount_factor = 1/(1+(r/t))**(n*t)\n",
    "    PV = FV * discount_factor\n",
    "    return PV\n",
    "\n",
    "def PV_Compound_1_Dollar_in_Years(r_Percentage,years):\n",
    "    PV_1_Dollar_in_Years = []\n",
    "    for year in range(1,years+1):\n",
    "        PV_1_Dollar_in_Years.append(round(PV_Compound(FV=1.0,r_Percentage=r_Percentage,n=year,t=1),2))\n",
    "    PV_1_Dollar_in_Years = np.array(PV_1_Dollar_in_Years)\n",
    "    return PV_1_Dollar_in_Years\n",
    "\n",
    "def CFAT_years_Function(CFAT_years,compound_interest_rates,years):\n",
    "    PV_years=[]\n",
    "    for year in range(0,years):\n",
    "        PV_years.append(round((CFAT_years[year] * compound_interest_rates[year]),2))\n",
    "    PV_years = np.array(PV_years)\n",
    "    return PV_years"
   ]
  },
  {
   "cell_type": "markdown",
   "id": "24d1bb37-8c97-4984-a818-efba6c4d1427",
   "metadata": {},
   "source": [
    "## Quizz 2 - Question 7\n",
    "On January 1, Nat Company purchased a new machine for DOLLARS 350,000 to be depreciated over five years. It will have no salvage value at the end of five years. For book and tax purposes,\n",
    "depreciation will be DOLLARS 70,000 per year. It is expected to produce annual cash flow from operations, before income taxes, of DOLLARS 100,000. Nat uses a cost of capital rate of 10%. Its income tax rate will be 21% for all years. The present value of DOLLARS 1 at 10% for five periods is 0.62. The present value of an ordinary annuity of DOLLARS 1 at 10% for five periods is 3.79. The net present value for the machine is"
   ]
  },
  {
   "cell_type": "code",
   "execution_count": 65,
   "id": "3adf1d3d-c147-4016-bd7e-ee7285dea289",
   "metadata": {},
   "outputs": [
    {
     "name": "stdout",
     "output_type": "stream",
     "text": [
      "Depreciation: 70000.0\n",
      "CFAT annualy: 93700.0\n",
      "CFATs during Years: [93700.0, 93700.0, 93700.0, 93700.0, 93700.0]\n",
      "Rates: [0.91 0.83 0.75 0.68 0.62]\n",
      "Present Values per Year: [85267. 77771. 70275. 63716. 58094.]\n",
      "Net Present Value: 5123.0\n"
     ]
    }
   ],
   "source": [
    "#Quizz 2 Question 7 ----------------------\n",
    "C_TC = 350000\n",
    "C_SL = 0\n",
    "C_SV = 100000\n",
    "years = 5\n",
    "t_percentage = 21\n",
    "K_percentage = 10\n",
    "\n",
    "C_DP = Depreciation_Formula(C_TC,C_SL,years)\n",
    "print(\"Depreciation:\",C_DP)\n",
    "CFAT,NIAT = CFAT_Formula_7_Steps(C_SV, C_DP, t_percentage)\n",
    "print(\"CFAT annualy:\", CFAT) \n",
    "CFAT_years = [float(CFAT),float(CFAT),float(CFAT),float(CFAT),float(CFAT)]\n",
    "print(\"CFATs during Years:\",CFAT_years)\n",
    "\n",
    "compound_interest_rates = PV_Compound_1_Dollar_in_Years(10,years)\n",
    "print(\"Rates:\",compound_interest_rates)\n",
    "PV_years = CFAT_years_Function(CFAT_years,compound_interest_rates,years)\n",
    "print(\"Present Values per Year:\",PV_years)\n",
    "\n",
    "NPV = -C_TC + sum(PV_years)\n",
    "print(\"Net Present Value:\",NPV)"
   ]
  },
  {
   "cell_type": "markdown",
   "id": "ca958a9d-20e2-48d2-9676-8a6666588c50",
   "metadata": {},
   "source": [
    "## Quizz 2 - Question 8\n",
    "\n",
    "Electric Company is planning to spend DOLLARS 74,000 for a new machine, to be depreciated on the straight-line basis over ten years with no salvage value. The related cash flow from operations, net of income taxes, is expected to be DOLLARS 10,000 a year for each of the first five years and DOLLARS 8,000 for each of the next five years. What is the payback period?"
   ]
  },
  {
   "cell_type": "code",
   "execution_count": 44,
   "id": "fd64d465-c0b2-437e-af89-533b5001991a",
   "metadata": {},
   "outputs": [],
   "source": [
    "# ------------ About the payback, because I have different Cash flow each year\n",
    "# ------------ I have to add my cashflows until I reach the Total Cost (C_TC)\n",
    "def Payback_Formula_With_Different_Annual_CFAT(C_TC,CFAT_years,years):\n",
    "    cumulative_CFAT = 0\n",
    "    year_of_payback = 0\n",
    "    needed_CFAT_from_last_year = 0\n",
    "    for year in range(0,years):\n",
    "        if(cumulative_CFAT<C_TC):\n",
    "            cumulative_CFAT +=CFAT_years[year]\n",
    "            year_of_payback = year+1\n",
    "            #print(\"year:\",year_of_payback,\"current cumulative CFAT:\",cumulative_CFAT)\n",
    "        else:\n",
    "            #Even if its accurate the value will be 1\n",
    "            needed_CFAT_from_last_year = CFAT_years[year_of_payback-1] - (cumulative_CFAT - C_TC)\n",
    "            #print(\"Needed from Last year:\",needed_CFAT_from_last_year)\n",
    "            break\n",
    "    accurate_year_of_payback = (year_of_payback-1) + needed_CFAT_from_last_year/CFAT_years[year_of_payback-2]\n",
    "    return accurate_year_of_payback"
   ]
  },
  {
   "cell_type": "code",
   "execution_count": 45,
   "id": "3e1c69c7-1384-4c4d-8282-e609e9a906de",
   "metadata": {},
   "outputs": [
    {
     "name": "stdout",
     "output_type": "stream",
     "text": [
      "Depreciation: 7400.0\n",
      "[10000, 10000, 10000, 10000, 10000, 8000, 8000, 8000, 8000, 8000]\n",
      "Accurate Years of Payback: 8.0\n"
     ]
    }
   ],
   "source": [
    "#Quizz 2 Question 8 ----------------------\n",
    "C_TC = 74000\n",
    "C_SL = 0\n",
    "years = 10\n",
    "C_DP = Depreciation_Formula(C_TC,C_SL,years)\n",
    "print(\"Depreciation:\",C_DP)\n",
    "\n",
    "CFAT_years_1_5 = 10000\n",
    "CFAT_years_6_10 = 8000\n",
    "\n",
    "# First I crearte a list of all the cashflow values from different years\n",
    "CFAT_years = [CFAT_years_1_5,CFAT_years_1_5,CFAT_years_1_5,CFAT_years_1_5,CFAT_years_1_5,\n",
    "              CFAT_years_6_10,CFAT_years_6_10,CFAT_years_6_10,CFAT_years_6_10,CFAT_years_6_10]\n",
    "print(CFAT_years) \n",
    "\n",
    "accurate_year_of_payback = Payback_Formula_With_Different_Annual_CFAT(C_TC,CFAT_years,years)\n",
    "print(\"Accurate Years of Payback:\",accurate_year_of_payback)"
   ]
  },
  {
   "cell_type": "markdown",
   "id": "c840bf19-7ae0-4cf3-b868-9db4feb98521",
   "metadata": {},
   "source": [
    "## Quizz 2 - Question 9\n",
    "\n",
    "The Cameron Company invested DOLLARS 86,352 in a four-year machine. The machine's net present value was DOLLARS 4,000 using a 15% cost of capital. Info on cash flows and present value factors follows:\n",
    "What is the expected cash flow, net of taxes, in year four?"
   ]
  },
  {
   "cell_type": "code",
   "execution_count": 27,
   "id": "7ec65f68-881c-4e3b-9c6c-ca172b4b94cd",
   "metadata": {},
   "outputs": [
    {
     "name": "stdout",
     "output_type": "stream",
     "text": [
      "PV year 1: 27840.0 PV year 2: 21280.0 PV year 3: 19800.0\n",
      "Year 4 CFAT: 37600.0\n"
     ]
    }
   ],
   "source": [
    "#Quizz 2 Question 9 ----------------------\n",
    "C_TC = 86352\n",
    "C_SL = 0\n",
    "C_SV = 100000\n",
    "years = 4\n",
    "t_percentage = 21\n",
    "K_percentage = 15\n",
    "\n",
    "CFAT_year_1 = 32000\n",
    "CFAT_year_2 = 28000\n",
    "CFAT_year_3 = 30000\n",
    "NPV = 4000\n",
    "PV_year_1 = CFAT_year_1*0.87\n",
    "PV_year_2 = CFAT_year_2*0.76\n",
    "PV_year_3 = CFAT_year_3*0.66\n",
    "print(\"PV year 1:\",PV_year_1,\"PV year 2:\",PV_year_2,\"PV year 3:\",PV_year_3)\n",
    "\n",
    "PV_year_4 = NPV + C_TC - (PV_year_1+PV_year_2+PV_year_3)\n",
    "CFAT_year_4 = PV_year_4 / 0.57\n",
    "print(\"Year 4 CFAT:\",CFAT_year_4)"
   ]
  },
  {
   "cell_type": "markdown",
   "id": "86b8cbc6-504b-4c0f-ac79-47d56b36991c",
   "metadata": {},
   "source": [
    "## Quizz 2 - Question 10\n",
    "\n",
    "Prep, Inc. is planning to invest DOLLARS 160,000 in a ten-year project. Prep estimates that the annual cash inflow, net of income taxes, from this project will be DOLLARS 24,000. Prep's required rate of return on investments of this type is 10%. Information on present value factors is as follows:"
   ]
  },
  {
   "cell_type": "code",
   "execution_count": 51,
   "id": "312f8d7d-2d61-4395-ae6d-36b006119d6c",
   "metadata": {},
   "outputs": [],
   "source": [
    "import matplotlib.pyplot as plt\n",
    "\n",
    "#------------- Returns a list of all the possible Cost of Capital \n",
    "def IRR_Formula_without_K(Payback,years):\n",
    "    K = 0.01\n",
    "    Ks = []\n",
    "    Differences = []\n",
    "    min_difference_val = 100\n",
    "    while K<1:\n",
    "        difference_val = np.abs(Payback - ((1-(1/(1+K))**years)/K))\n",
    "        Differences.append(difference_val)\n",
    "        Ks.append(K)\n",
    "        K +=0.01\n",
    "    return (Ks,Differences)\n",
    "\n",
    "#------------- Find the min of a list\n",
    "def Min_Index_of_List(mylist):\n",
    "    min_val = max(mylist)\n",
    "    min_index = 0\n",
    "    for i in range(0,len(mylist)):\n",
    "        if mylist[i]<min_val:\n",
    "            min_val = mylist[i]\n",
    "            min_index = i\n",
    "    return(min_val,min_index)"
   ]
  },
  {
   "cell_type": "code",
   "execution_count": 73,
   "id": "cd35eec4-7c76-4323-9c30-c1f94707ebfc",
   "metadata": {},
   "outputs": [
    {
     "name": "stdout",
     "output_type": "stream",
     "text": [
      "Depreciation: 16000.0\n",
      "CFATs during Years: [24000, 24000, 24000, 24000, 24000, 24000, 24000, 24000, 24000, 24000]\n",
      "Rates: [0.91 0.83 0.75 0.68 0.62 0.56 0.51 0.47 0.42 0.39]\n",
      "Present Values per Year: [21840. 19920. 18000. 16320. 14880. 13440. 12240. 11280. 10080.  9360.]\n",
      "Accurate Years of Payback: 6.666666666666667\n"
     ]
    },
    {
     "data": {
      "image/png": "[encoded data removed]",
      "text/plain": [
       "<Figure size 432x288 with 1 Axes>"
      ]
     },
     "metadata": {
      "needs_background": "light"
     },
     "output_type": "display_data"
    },
    {
     "name": "stdout",
     "output_type": "stream",
     "text": [
      "IRR: 8.0 %\n"
     ]
    }
   ],
   "source": [
    "#Quizz 2 Question 10 ----------------------\n",
    "C_TC = 160000\n",
    "C_SL = 0\n",
    "years = 10\n",
    "C_DP = Depreciation_Formula(C_TC,C_SL,years)\n",
    "print(\"Depreciation:\",C_DP)\n",
    "\n",
    "CFAT = 24000\n",
    "CFAT_years = [(CFAT),(CFAT),(CFAT),(CFAT),(CFAT),(CFAT),(CFAT),(CFAT),(CFAT),(CFAT)]\n",
    "print(\"CFATs during Years:\",CFAT_years)\n",
    "compound_interest_rates = PV_Compound_1_Dollar_in_Years(10,years)\n",
    "print(\"Rates:\",compound_interest_rates)\n",
    "PV_years = CFAT_years_Function(CFAT_years,compound_interest_rates,years)\n",
    "print(\"Present Values per Year:\",PV_years)\n",
    "\n",
    "accurate_year_of_payback = Payback_Formula_With_Different_Annual_CFAT(C_TC,CFAT_years,years)\n",
    "print(\"Accurate Years of Payback:\",accurate_year_of_payback)\n",
    "\n",
    "Ks,Differences = IRR_Formula_without_K(accurate_year_of_payback,years)\n",
    "plt.plot(Differences)\n",
    "plt.show()\n",
    "min_value, min_index = Min_Index_of_List(Differences)\n",
    "IRR = Ks[min_index]*100\n",
    "print(\"IRR:\",IRR,\"%\")"
   ]
  },
  {
   "cell_type": "code",
   "execution_count": null,
   "id": "aeca587d-c4e2-4488-a904-93dd11627ea7",
   "metadata": {},
   "outputs": [],
   "source": []
  },
  {
   "cell_type": "code",
   "execution_count": null,
   "id": "eef9f644-5374-4f02-99bd-791b8877eadf",
   "metadata": {},
   "outputs": [],
   "source": []
  }
 ],
 "metadata": {
  "kernelspec": {
   "display_name": "Python 3 (ipykernel)",
   "language": "python",
   "name": "python3"
  },
  "language_info": {
   "codemirror_mode": {
    "name": "ipython",
    "version": 3
   },
   "file_extension": ".py",
   "mimetype": "text/x-python",
   "name": "python",
   "nbconvert_exporter": "python",
   "pygments_lexer": "ipython3",
   "version": "3.9.12"
  }
 },
 "nbformat": 4,
 "nbformat_minor": 5
}
